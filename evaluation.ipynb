{
 "cells": [
  {
   "cell_type": "markdown",
   "id": "810f4498",
   "metadata": {},
   "source": [
    "# Legal RAG Evaluation - Ground Truth Dataset Creation\n",
    "\n",
    "This notebook creates a ground truth Q&A dataset for evaluating the legal RAG pipeline.\n",
    "Focus: Data usage questions with large context chunks (2000+ tokens)"
   ]
  },
  {
   "cell_type": "code",
   "execution_count": 1,
   "id": "915b4b76",
   "metadata": {},
   "outputs": [],
   "source": [
    "import os\n",
    "import sys\n",
    "import json\n",
    "import random\n",
    "import textwrap\n",
    "from typing import List, Dict, Any\n",
    "from tqdm import tqdm\n",
    "import time\n",
    "\n",
    "\n",
    "from legal_rag import LegalRAGBackend\n",
    "from langchain_openai import AzureChatOpenAI\n",
    "from langchain_core.prompts import ChatPromptTemplate"
   ]
  },
  {
   "cell_type": "code",
   "execution_count": null,
   "id": "149bd215",
   "metadata": {},
   "outputs": [],
   "source": [
    "AZURE_OPENAI_ENDPOINT = \"https://ironclad-openai-001.openai.azure.com/\"\n",
    "AZURE_OPENAI_API_KEY = \"936856630b764210913d9a8fd6c8212b\"\n",
    "AZURE_DEPLOYMENT_NAME = \"gpt-4o\"\n",
    "\n",
    "rag_backend = LegalRAGBackend()\n",
    "\n",
    "\n",
    "azure_llm = AzureChatOpenAI(\n",
    "    api_key=AZURE_OPENAI_API_KEY,\n",
    "    api_version=\"2023-05-15\",\n",
    "    azure_endpoint=AZURE_OPENAI_ENDPOINT,\n",
    "    azure_deployment=AZURE_DEPLOYMENT_NAME,\n",
    "    temperature=0.7\n",
    ")"
   ]
  },
  {
   "cell_type": "code",
   "execution_count": 3,
   "id": "f06d315d",
   "metadata": {},
   "outputs": [],
   "source": [
    "DATA_USAGE_QUERIES = [\n",
    "    \"Can we use client data to develop or test new services?\",\n",
    "    \"client data usage for development and testing\",\n",
    "    \"PHI data usage restrictions\",\n",
    "    \"artificial intelligence machine learning restrictions\",\n",
    "    \"data retention requirements timelines\",\n",
    "    \"client consent requirements data usage\",\n",
    "    \"third-party vendor data processing\",\n",
    "    \"human oversight AI decision making\",\n",
    "    \"IP ownership rights client data\",\n",
    "    \"cloud storage limitations PHI\",\n",
    "    \"data sharing restrictions\",\n",
    "    \"client data anonymization requirements\"\n",
    "]\n",
    "\n",
    "KEY_CLIENTS = [\"Aetna Life Insurance Company\", \"Aerotek\", \"1199 SEIU National Benefit Funds\"]"
   ]
  },
  {
   "cell_type": "code",
   "execution_count": 4,
   "id": "56ebc930",
   "metadata": {},
   "outputs": [],
   "source": [
    "def get_large_context_chunks(queries: List[str], clients: List[str], top_k: int = 10) -> List[Dict[str, Any]]:\n",
    "    contexts = []\n",
    "    \n",
    "    for query in queries:\n",
    "        for client in clients:\n",
    "            try:\n",
    "                response = rag_backend.query_s3_vector_store(\n",
    "                    query_text=query,\n",
    "                    client_account_filter=client,\n",
    "                    top_k=top_k\n",
    "                )\n",
    "                \n",
    "                if response and 'vectors' in response:\n",
    "                    for vector in response['vectors']:\n",
    "                        metadata = vector.get('metadata', {})\n",
    "                        text = metadata.get('text', '')\n",
    "                        \n",
    "                        if len(text) >= 2000:\n",
    "                            contexts.append({\n",
    "                                'text': text,\n",
    "                                'client': client,\n",
    "                                'source': metadata.get('s3_path', 'unknown'),\n",
    "                                'document_type': metadata.get('document_type', 'unknown'),\n",
    "                                'query_used': query\n",
    "                            })\n",
    "                            \n",
    "                time.sleep(0.5)\n",
    "                \n",
    "            except Exception as e:\n",
    "                print(f\"Error querying {query} for {client}: {e}\")\n",
    "                continue\n",
    "    \n",
    "    return contexts"
   ]
  },
  {
   "cell_type": "code",
   "execution_count": 5,
   "id": "485000bc",
   "metadata": {},
   "outputs": [],
   "source": [
    "def escape_curly_braces(text: str) -> str:\n",
    "    text = str(text)\n",
    "    return text.replace(\"{\", \"{{\").replace(\"}\", \"}}\")\n",
    "\n",
    "\n",
    "def generate_qa_pair(context: Dict[str, Any]) -> Dict[str, Any]:\n",
    "    system_prompt = textwrap.dedent(f\"\"\"\n",
    "        You are an expert creating multiple-choice questions from legal documents.\n",
    "        Create questions about data usage, privacy, AI/ML restrictions, and related legal topics.\n",
    "        \n",
    "        Your output should be like the following Python dictionary structure:\n",
    "        \n",
    "        {escape_curly_braces({\n",
    "            \"question\": \"Put here the question text\",\n",
    "            \"options\": {\n",
    "                \"A\": \"Option A text\",\n",
    "                \"B\": \"Option B text\",\n",
    "                \"C\": \"Option C text\",\n",
    "                \"D\": \"Option D text\"\n",
    "            },\n",
    "            \"correct_answer\": \"Give the correct option letter (A, B, C, or D)\",\n",
    "            \"explanation\": \"Give a brief explanation of why this is the correct answer\"\n",
    "        })}\n",
    "        \n",
    "        For example:\n",
    "        \n",
    "        {escape_curly_braces({\n",
    "            \"question\": \"What are the data retention requirements for client PHI?\",\n",
    "            \"options\": {\n",
    "                \"A\": \"1 year after contract termination\",\n",
    "                \"B\": \"3 years after contract termination\",\n",
    "                \"C\": \"5 years after contract termination\",\n",
    "                \"D\": \"Permanent retention required\"\n",
    "            },\n",
    "            \"correct_answer\": \"B\",\n",
    "            \"explanation\": \"The contract specifies a 3-year retention period for client PHI after contract termination.\"\n",
    "        })}\n",
    "        \n",
    "        ONLY output the requested dictionary.\n",
    "        \"\"\")\n",
    "    \n",
    "    human_prompt = textwrap.dedent(f\"\"\"\n",
    "        Create a multiple-choice question based on the following legal document text:\n",
    "        \n",
    "        Client: {escape_curly_braces(context['client'])}\n",
    "        Document Type: {escape_curly_braces(context['document_type'])}\n",
    "        \n",
    "        Text:\n",
    "        {escape_curly_braces(context['text'][:3000])}\n",
    "        \"\"\")\n",
    "    \n",
    "    prompt = ChatPromptTemplate.from_messages(\n",
    "        [\n",
    "            (\"system\", system_prompt),\n",
    "            (\"human\", human_prompt),\n",
    "        ]\n",
    "    )\n",
    "    \n",
    "    try:\n",
    "        # Create LangChain chain\n",
    "        chain = prompt | azure_llm\n",
    "        output = chain.invoke({})\n",
    "        \n",
    "        qa_text = output.content.strip()\n",
    "        qa_dict = eval(qa_text)\n",
    "        \n",
    "        qa_dict['source'] = context['source']\n",
    "        qa_dict['client'] = context['client']\n",
    "        qa_dict['document_type'] = context['document_type']\n",
    "        \n",
    "        return qa_dict\n",
    "        \n",
    "    except Exception as e:\n",
    "        print(f\"Error generating Q&A: {e}\")\n",
    "        return None"
   ]
  },
  {
   "cell_type": "code",
   "execution_count": 6,
   "id": "5abe9be6",
   "metadata": {},
   "outputs": [],
   "source": [
    "def shuffle_options(qa_list: List[Dict], seed: int = 42) -> List[Dict]:\n",
    "    random.seed(seed)\n",
    "    \n",
    "    for qa in qa_list:\n",
    "        options = list(qa[\"options\"].items())\n",
    "        random.shuffle(options)\n",
    "        \n",
    "        new_option_keys = ['A', 'B', 'C', 'D']\n",
    "        new_options = {new_key: value for new_key, (_, value) in zip(new_option_keys, options)}\n",
    "        \n",
    "        correct_answer_value = qa[\"options\"][qa[\"correct_answer\"]]\n",
    "        correct_answer_key = next(new_key for new_key, value in new_options.items() if value == correct_answer_value)\n",
    "        \n",
    "        qa[\"options\"] = new_options\n",
    "        qa[\"correct_answer\"] = correct_answer_key\n",
    "    \n",
    "    return qa_list"
   ]
  },
  {
   "cell_type": "markdown",
   "id": "27d767f7",
   "metadata": {},
   "source": [
    "## Step 1: Collect Large Context Chunks"
   ]
  },
  {
   "cell_type": "code",
   "execution_count": 7,
   "id": "5555dcb0",
   "metadata": {},
   "outputs": [
    {
     "name": "stdout",
     "output_type": "stream",
     "text": [
      "Collecting large context chunks for data usage topics...\n",
      "Collected 7 context chunks\n",
      "Average length: 2074 characters\n",
      "\n",
      "Context 1:\n",
      "Client: Aetna Life Insurance Company\n",
      "Doc Type: Addendum\n",
      "Length: 2110 chars\n",
      "Preview: All systems processing and/or storing Company PHI must have at least an annual \n",
      "system risk assessment/security review which provides assurance that administrative, physical, and \n",
      "technical controls a...\n",
      "Collected 7 context chunks\n",
      "Average length: 2074 characters\n",
      "\n",
      "Context 1:\n",
      "Client: Aetna Life Insurance Company\n",
      "Doc Type: Addendum\n",
      "Length: 2110 chars\n",
      "Preview: All systems processing and/or storing Company PHI must have at least an annual \n",
      "system risk assessment/security review which provides assurance that administrative, physical, and \n",
      "technical controls a...\n"
     ]
    }
   ],
   "source": [
    "print(\"Collecting large context chunks for data usage topics...\")\n",
    "contexts = get_large_context_chunks(DATA_USAGE_QUERIES, KEY_CLIENTS, top_k=5)\n",
    "\n",
    "print(f\"Collected {len(contexts)} context chunks\")\n",
    "print(f\"Average length: {sum(len(c['text']) for c in contexts) / len(contexts):.0f} characters\")\n",
    "\n",
    "for i, ctx in enumerate(contexts[:1]):\n",
    "    print(f\"\\nContext {i+1}:\")\n",
    "    print(f\"Client: {ctx['client']}\")\n",
    "    print(f\"Doc Type: {ctx['document_type']}\")\n",
    "    print(f\"Length: {len(ctx['text'])} chars\")\n",
    "    print(f\"Preview: {ctx['text'][:200]}...\")"
   ]
  },
  {
   "cell_type": "code",
   "execution_count": 8,
   "id": "76c08330",
   "metadata": {},
   "outputs": [
    {
     "data": {
      "text/plain": [
       "'All systems processing and/or storing Company PHI must have at least an annual \\nsystem risk assessment/security review which provides assurance that administrative, physical, and \\ntechnical controls are funct ioning effectively and providing adequate levels of protection. Reviews should \\ninclude vulnerability scanning tools. B. Log Reviews. All systems processing and/or storing Company PHI must have a routine procedure in place \\nto review system logs for unauthorize d access. C. Change Control. All systems processing and/or storing Company PHI must have a documented change \\ncontrol procedure that ensures separation of duties and protects the confidentiality, integrity and \\navailability of data. Business Continuity / Disas ter Recovery Controls  \\nA. Emergency Mode Operation Plan. Vendor  must establish a documented plan to enable continuation of \\ncritical business processes and protection of the security of electronic Company PHI in the event of an \\nemergency. Emergency means any ci rcumstance or situation that causes normal computer operations to \\nbecome unavailable for use in performing the work required under the Agreement  for more than twenty -\\nfor (24) hours . B. Data Backup Plan. Vendor  must have established documented procedures to backup Company PHI to \\nmaintain retrievable exact copies of Company PHI. The plan must include a regular schedule for making \\nbackups, storing backups offsite, an inventory of backup media, and an estimate of t he amount of time \\nneeded to restore Company PHI should it be lost. At a minimum, the schedule must be a weekly full \\nbackup and monthly offsite storage of Company data. Paper Document Controls  \\nA. Supervision of Data. Company PHI in paper form shall not be left unattended at any time, unless it is \\nlocked in a file cabinet, file room, desk or office. Unattended means that information is not being observed \\nby an employee authorized to access the information. Company PHI in paper form shall not be left \\nunattend ed at any time in vehicles or planes and shall not be checked in baggage on commercial airplanes. B. Escorting Visitors.'"
      ]
     },
     "execution_count": 8,
     "metadata": {},
     "output_type": "execute_result"
    }
   ],
   "source": [
    "ctx['text']"
   ]
  },
  {
   "cell_type": "markdown",
   "id": "81541094",
   "metadata": {},
   "source": [
    "## Step 2: Generate Q&A Pairs"
   ]
  },
  {
   "cell_type": "code",
   "execution_count": 9,
   "id": "9c5c2c5c",
   "metadata": {},
   "outputs": [
    {
     "name": "stdout",
     "output_type": "stream",
     "text": [
      "Generating 30 Q&A pairs...\n"
     ]
    },
    {
     "name": "stderr",
     "output_type": "stream",
     "text": [
      "Generating Q&A:   0%|          | 0/7 [00:00<?, ?it/s]"
     ]
    },
    {
     "name": "stdout",
     "output_type": "stream",
     "text": [
      "\n",
      "Q&A 1:\n",
      "Q: What is the time frame covered by the Supplemental Criminal Record Conviction Database search according to the Security Addendum?\n",
      "A: B - 7 years\n"
     ]
    },
    {
     "name": "stderr",
     "output_type": "stream",
     "text": [
      "Generating Q&A:  14%|█▍        | 1/7 [00:02<00:12,  2.12s/it]"
     ]
    },
    {
     "name": "stdout",
     "output_type": "stream",
     "text": [
      "\n",
      "Q&A 2:\n",
      "Q: What is the minimum frequency required for backing up Company PHI according to the document?\n",
      "A: B - Weekly full backup and monthly offsite storage\n"
     ]
    },
    {
     "name": "stderr",
     "output_type": "stream",
     "text": [
      "Generating Q&A:  29%|██▊       | 2/7 [00:04<00:10,  2.12s/it]"
     ]
    },
    {
     "name": "stdout",
     "output_type": "stream",
     "text": [
      "\n",
      "Q&A 3:\n",
      "Q: What is the minimum requirement for system risk assessment/security reviews for systems processing or storing Company PHI?\n",
      "A: C - Annual risk assessment/security review\n"
     ]
    },
    {
     "name": "stderr",
     "output_type": "stream",
     "text": [
      "Generating Q&A:  43%|████▎     | 3/7 [00:06<00:08,  2.08s/it]"
     ]
    },
    {
     "name": "stdout",
     "output_type": "stream",
     "text": [
      "\n",
      "Q&A 4:\n",
      "Q: What must be done if attempts to verify an applicant’s educational credentials are unsuccessful?\n",
      "A: B - Customer refuses to accept an Approved Copy and deems the individual ineligible for assignment.\n"
     ]
    },
    {
     "name": "stderr",
     "output_type": "stream",
     "text": [
      "Generating Q&A:  57%|█████▋    | 4/7 [00:08<00:06,  2.20s/it]"
     ]
    },
    {
     "name": "stdout",
     "output_type": "stream",
     "text": [
      "\n",
      "Q&A 5:\n",
      "Q: What is the duration for which the Supplemental Criminal Record Conviction Database searches past records?\n",
      "A: C - 7 years\n"
     ]
    },
    {
     "name": "stderr",
     "output_type": "stream",
     "text": [
      "Generating Q&A:  71%|███████▏  | 5/7 [00:10<00:04,  2.11s/it]"
     ]
    },
    {
     "name": "stdout",
     "output_type": "stream",
     "text": [
      "\n",
      "Q&A 6:\n",
      "Q: What is the duration for which the Supplemental Criminal Record Conviction Database searches past criminal records?\n",
      "A: C - 7 years\n"
     ]
    },
    {
     "name": "stderr",
     "output_type": "stream",
     "text": [
      "Generating Q&A:  86%|████████▌ | 6/7 [00:12<00:02,  2.13s/it]"
     ]
    },
    {
     "name": "stdout",
     "output_type": "stream",
     "text": [
      "\n",
      "Q&A 7:\n",
      "Q: According to the Security Addendum, what should be done if attempts to verify an applicant’s educational credentials are unsuccessful?\n",
      "A: D - Contact Customer to discuss further exceptions.\n"
     ]
    },
    {
     "name": "stderr",
     "output_type": "stream",
     "text": [
      "Generating Q&A: 100%|██████████| 7/7 [00:15<00:00,  2.16s/it]"
     ]
    },
    {
     "name": "stdout",
     "output_type": "stream",
     "text": [
      "\n",
      "Generated 7 Q&A pairs\n"
     ]
    },
    {
     "name": "stderr",
     "output_type": "stream",
     "text": [
      "\n"
     ]
    }
   ],
   "source": [
    "TARGET_QA_COUNT = 30\n",
    "qa_dataset = []\n",
    "\n",
    "random.seed(42)\n",
    "selected_contexts = random.sample(contexts, min(TARGET_QA_COUNT, len(contexts)))\n",
    "\n",
    "print(f\"Generating {TARGET_QA_COUNT} Q&A pairs...\")\n",
    "\n",
    "for i, context in enumerate(tqdm(selected_contexts, desc=\"Generating Q&A\")):\n",
    "    qa_pair = generate_qa_pair(context)\n",
    "    \n",
    "    if qa_pair:\n",
    "        qa_dataset.append(qa_pair)\n",
    "        print(f\"\\nQ&A {len(qa_dataset)}:\")\n",
    "        print(f\"Q: {qa_pair['question']}\")\n",
    "        print(f\"A: {qa_pair['correct_answer']} - {qa_pair['options'][qa_pair['correct_answer']]}\")\n",
    "    \n",
    "    time.sleep(1)\n",
    "    \n",
    "    if len(qa_dataset) >= TARGET_QA_COUNT:\n",
    "        break\n",
    "\n",
    "print(f\"\\nGenerated {len(qa_dataset)} Q&A pairs\")"
   ]
  },
  {
   "cell_type": "markdown",
   "id": "9d55a313",
   "metadata": {},
   "source": [
    "## Step 3: Process and Save Dataset"
   ]
  },
  {
   "cell_type": "code",
   "execution_count": 10,
   "id": "2967b875",
   "metadata": {},
   "outputs": [
    {
     "name": "stdout",
     "output_type": "stream",
     "text": [
      "Saved 7 Q&A pairs to qa_list.json\n",
      "\n",
      "Dataset summary:\n",
      "Clients: {'Aerotek': 5, 'Aetna Life Insurance Company': 2}\n",
      "Document types: {'Security Addendum/Exhibit': 5, 'Addendum': 2}\n",
      "\n",
      "Sample Q&A:\n",
      "\n",
      "1. What is the time frame covered by the Supplemental Criminal Record Conviction Database search according to the Security Addendum?\n",
      "    A: 5 years\n",
      "  ✓ B: 7 years\n",
      "    C: Lifetime\n",
      "    D: 10 years\n",
      "\n",
      "2. What is the minimum frequency required for backing up Company PHI according to the document?\n",
      "    A: Quarterly full backup and quarterly offsite storage\n",
      "    B: Monthly full backup and weekly offsite storage\n",
      "    C: Daily full backup and daily offsite storage\n",
      "  ✓ D: Weekly full backup and monthly offsite storage\n"
     ]
    }
   ],
   "source": [
    "qa_dataset_shuffled = shuffle_options(qa_dataset, seed=42)\n",
    "\n",
    "with open(\"qa_list.json\", \"w\") as f:\n",
    "    json.dump(qa_dataset_shuffled, f, indent=4)\n",
    "\n",
    "print(f\"Saved {len(qa_dataset_shuffled)} Q&A pairs to qa_list.json\")\n",
    "\n",
    "print(\"\\nDataset summary:\")\n",
    "clients = [qa['client'] for qa in qa_dataset_shuffled]\n",
    "doc_types = [qa['document_type'] for qa in qa_dataset_shuffled]\n",
    "\n",
    "from collections import Counter\n",
    "print(f\"Clients: {dict(Counter(clients))}\")\n",
    "print(f\"Document types: {dict(Counter(doc_types))}\")\n",
    "\n",
    "print(\"\\nSample Q&A:\")\n",
    "for i, qa in enumerate(qa_dataset_shuffled[:2]):\n",
    "    print(f\"\\n{i+1}. {qa['question']}\")\n",
    "    for opt, text in qa['options'].items():\n",
    "        marker = \"✓\" if opt == qa['correct_answer'] else \" \"\n",
    "        print(f\"  {marker} {opt}: {text}\")"
   ]
  }
 ],
 "metadata": {
  "kernelspec": {
   "display_name": "evals_legal_rag (3.10.12)",
   "language": "python",
   "name": "python3"
  },
  "language_info": {
   "codemirror_mode": {
    "name": "ipython",
    "version": 3
   },
   "file_extension": ".py",
   "mimetype": "text/x-python",
   "name": "python",
   "nbconvert_exporter": "python",
   "pygments_lexer": "ipython3",
   "version": "3.10.12"
  }
 },
 "nbformat": 4,
 "nbformat_minor": 5
}

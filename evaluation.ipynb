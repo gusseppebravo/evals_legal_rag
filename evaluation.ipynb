{
 "cells": [
  {
   "cell_type": "markdown",
   "id": "810f4498",
   "metadata": {},
   "source": [
    "# Legal RAG Evaluation - Ground Truth Dataset Creation\n",
    "\n",
    "This notebook creates a ground truth Q&A dataset for evaluating the legal RAG pipeline.\n",
    "Focus: Data usage questions with large context chunks (2000+ tokens)"
   ]
  },
  {
   "cell_type": "code",
   "execution_count": 1,
   "id": "915b4b76",
   "metadata": {},
   "outputs": [],
   "source": [
    "import os\n",
    "import sys\n",
    "import json\n",
    "import random\n",
    "import textwrap\n",
    "from typing import List, Dict, Any\n",
    "from tqdm import tqdm\n",
    "import time\n",
    "\n",
    "\n",
    "from legal_rag import LegalRAGBackend\n",
    "from langchain_openai import AzureChatOpenAI\n",
    "from langchain_core.prompts import ChatPromptTemplate"
   ]
  },
  {
   "cell_type": "code",
   "execution_count": 2,
   "id": "149bd215",
   "metadata": {},
   "outputs": [],
   "source": [
    "AZURE_OPENAI_ENDPOINT = \"https://ironclad-openai-001.openai.azure.com/\"\n",
    "AZURE_OPENAI_API_KEY = \"936856630b764210913d9a8fd6c8212b\"\n",
    "AZURE_DEPLOYMENT_NAME = \"gpt-4o\"\n",
    "\n",
    "rag_backend = LegalRAGBackend()\n",
    "\n",
    "\n",
    "azure_llm = AzureChatOpenAI(\n",
    "    api_key=AZURE_OPENAI_API_KEY,\n",
    "    api_version=\"2023-05-15\",\n",
    "    azure_endpoint=AZURE_OPENAI_ENDPOINT,\n",
    "    azure_deployment=AZURE_DEPLOYMENT_NAME,\n",
    "    temperature=0.7\n",
    ")"
   ]
  },
  {
   "cell_type": "code",
   "execution_count": 3,
   "id": "f06d315d",
   "metadata": {},
   "outputs": [],
   "source": [
    "DATA_USAGE_QUERIES = [\n",
    "    \"Can we use client data to develop or test new services?\",\n",
    "    \"client data usage for development and testing\",\n",
    "    \"PHI data usage restrictions\",\n",
    "    \"artificial intelligence machine learning restrictions\",\n",
    "    \"data retention requirements timelines\",\n",
    "    \"client consent requirements data usage\",\n",
    "    \"third-party vendor data processing\",\n",
    "    \"human oversight AI decision making\",\n",
    "    \"IP ownership rights client data\",\n",
    "    \"cloud storage limitations PHI\",\n",
    "    \"data sharing restrictions\",\n",
    "    \"client data anonymization requirements\"\n",
    "]\n",
    "\n",
    "KEY_CLIENTS = [\"Aetna Life Insurance Company\", \"Aerotek\", \"1199 SEIU National Benefit Funds\"]"
   ]
  },
  {
   "cell_type": "code",
   "execution_count": 4,
   "id": "56ebc930",
   "metadata": {},
   "outputs": [],
   "source": [
    "def get_large_context_chunks(queries: List[str], clients: List[str], top_k: int = 10) -> List[Dict[str, Any]]:\n",
    "    contexts = []\n",
    "    \n",
    "    for query in queries:\n",
    "        for client in clients:\n",
    "            try:\n",
    "                response = rag_backend.query_s3_vector_store(\n",
    "                    query_text=query,\n",
    "                    client_account_filter=client,\n",
    "                    top_k=top_k\n",
    "                )\n",
    "                \n",
    "                if response and 'vectors' in response:\n",
    "                    for vector in response['vectors']:\n",
    "                        metadata = vector.get('metadata', {})\n",
    "                        text = metadata.get('text', '')\n",
    "                        \n",
    "                        if len(text) >= 1000:\n",
    "                            contexts.append({\n",
    "                                'text': text,\n",
    "                                'client': client,\n",
    "                                'source': metadata.get('s3_path', 'unknown'),\n",
    "                                'document_type': metadata.get('document_type', 'unknown'),\n",
    "                                'query_used': query\n",
    "                            })\n",
    "                            \n",
    "                time.sleep(0.5)\n",
    "                \n",
    "            except Exception as e:\n",
    "                print(f\"Error querying {query} for {client}: {e}\")\n",
    "                continue\n",
    "    \n",
    "    return contexts"
   ]
  },
  {
   "cell_type": "code",
   "execution_count": 5,
   "id": "485000bc",
   "metadata": {},
   "outputs": [],
   "source": [
    "def escape_curly_braces(text: str) -> str:\n",
    "    text = str(text)\n",
    "    return text.replace(\"{\", \"{{\").replace(\"}\", \"}}\")\n",
    "\n",
    "\n",
    "def generate_qa_pair(context: Dict[str, Any]) -> Dict[str, Any]:\n",
    "    system_prompt = textwrap.dedent(f\"\"\"\n",
    "        You are an expert creating multiple-choice questions from legal documents.\n",
    "        Create questions about data usage, privacy, AI/ML restrictions, and related legal topics.\n",
    "        \n",
    "        Your output should be like the following Python dictionary structure:\n",
    "        \n",
    "        {escape_curly_braces({\n",
    "            \"question\": \"Put here the question text\",\n",
    "            \"options\": {\n",
    "                \"A\": \"Option A text\",\n",
    "                \"B\": \"Option B text\",\n",
    "                \"C\": \"Option C text\",\n",
    "                \"D\": \"Option D text\"\n",
    "            },\n",
    "            \"correct_answer\": \"Give the correct option letter (A, B, C, or D)\",\n",
    "            \"explanation\": \"Give a brief explanation of why this is the correct answer\"\n",
    "        })}\n",
    "        \n",
    "        For example:\n",
    "        \n",
    "        {escape_curly_braces({\n",
    "            \"question\": \"What are the data retention requirements for client PHI?\",\n",
    "            \"options\": {\n",
    "                \"A\": \"1 year after contract termination\",\n",
    "                \"B\": \"3 years after contract termination\",\n",
    "                \"C\": \"5 years after contract termination\",\n",
    "                \"D\": \"Permanent retention required\"\n",
    "            },\n",
    "            \"correct_answer\": \"B\",\n",
    "            \"explanation\": \"The contract specifies a 3-year retention period for client PHI after contract termination.\"\n",
    "        })}\n",
    "        \n",
    "        ONLY output the requested dictionary.\n",
    "        \"\"\")\n",
    "    \n",
    "    human_prompt = textwrap.dedent(f\"\"\"\n",
    "        Create a multiple-choice question based on the following legal document text:\n",
    "        \n",
    "        Client: {escape_curly_braces(context['client'])}\n",
    "        Document Type: {escape_curly_braces(context['document_type'])}\n",
    "        \n",
    "        Text:\n",
    "        {escape_curly_braces(context['text'][:3000])}\n",
    "        \"\"\")\n",
    "    \n",
    "    prompt = ChatPromptTemplate.from_messages(\n",
    "        [\n",
    "            (\"system\", system_prompt),\n",
    "            (\"human\", human_prompt),\n",
    "        ]\n",
    "    )\n",
    "    \n",
    "    try:\n",
    "        # Create LangChain chain\n",
    "        chain = prompt | azure_llm\n",
    "        output = chain.invoke({})\n",
    "        \n",
    "        qa_text = output.content.strip()\n",
    "        qa_dict = eval(qa_text)\n",
    "        \n",
    "        qa_dict['source'] = context['source']\n",
    "        qa_dict['client'] = context['client']\n",
    "        qa_dict['document_type'] = context['document_type']\n",
    "        qa_dict['context'] = context['text'][:3000]  # Limit context to first 3000 characters\n",
    "        \n",
    "        return qa_dict\n",
    "        \n",
    "    except Exception as e:\n",
    "        print(f\"Error generating Q&A: {e}\")\n",
    "        return None"
   ]
  },
  {
   "cell_type": "code",
   "execution_count": 6,
   "id": "5abe9be6",
   "metadata": {},
   "outputs": [],
   "source": [
    "def shuffle_options(qa_list: List[Dict], seed: int = 42) -> List[Dict]:\n",
    "    random.seed(seed)\n",
    "    \n",
    "    for qa in qa_list:\n",
    "        options = list(qa[\"options\"].items())\n",
    "        random.shuffle(options)\n",
    "        \n",
    "        new_option_keys = ['A', 'B', 'C', 'D']\n",
    "        new_options = {new_key: value for new_key, (_, value) in zip(new_option_keys, options)}\n",
    "        \n",
    "        correct_answer_value = qa[\"options\"][qa[\"correct_answer\"]]\n",
    "        correct_answer_key = next(new_key for new_key, value in new_options.items() if value == correct_answer_value)\n",
    "        \n",
    "        qa[\"options\"] = new_options\n",
    "        qa[\"correct_answer\"] = correct_answer_key\n",
    "    \n",
    "    return qa_list"
   ]
  },
  {
   "cell_type": "markdown",
   "id": "27d767f7",
   "metadata": {},
   "source": [
    "## Step 1: Collect Large Context Chunks"
   ]
  },
  {
   "cell_type": "code",
   "execution_count": 7,
   "id": "5555dcb0",
   "metadata": {},
   "outputs": [
    {
     "name": "stdout",
     "output_type": "stream",
     "text": [
      "Collecting large context chunks for data usage topics...\n",
      "Collected 65 context chunks\n",
      "Average length: 1590 characters\n",
      "\n",
      "Context 1:\n",
      "Client: Aetna Life Insurance Company\n",
      "Doc Type: Amendment\n",
      "Length: 1915 chars\n",
      "Preview: Initially, clinical services program functions shall include those designated below, subject \n",
      "to the limitatio ns specified:  \n",
      " \n",
      "Describe Overall Service To Be Provided : Upon written approval from Ae...\n",
      "Collected 65 context chunks\n",
      "Average length: 1590 characters\n",
      "\n",
      "Context 1:\n",
      "Client: Aetna Life Insurance Company\n",
      "Doc Type: Amendment\n",
      "Length: 1915 chars\n",
      "Preview: Initially, clinical services program functions shall include those designated below, subject \n",
      "to the limitatio ns specified:  \n",
      " \n",
      "Describe Overall Service To Be Provided : Upon written approval from Ae...\n"
     ]
    }
   ],
   "source": [
    "print(\"Collecting large context chunks for data usage topics...\")\n",
    "contexts = get_large_context_chunks(DATA_USAGE_QUERIES, KEY_CLIENTS, top_k=5)\n",
    "\n",
    "print(f\"Collected {len(contexts)} context chunks\")\n",
    "print(f\"Average length: {sum(len(c['text']) for c in contexts) / len(contexts):.0f} characters\")\n",
    "\n",
    "for i, ctx in enumerate(contexts[:1]):\n",
    "    print(f\"\\nContext {i+1}:\")\n",
    "    print(f\"Client: {ctx['client']}\")\n",
    "    print(f\"Doc Type: {ctx['document_type']}\")\n",
    "    print(f\"Length: {len(ctx['text'])} chars\")\n",
    "    print(f\"Preview: {ctx['text'][:200]}...\")"
   ]
  },
  {
   "cell_type": "code",
   "execution_count": 8,
   "id": "76c08330",
   "metadata": {},
   "outputs": [
    {
     "name": "stdout",
     "output_type": "stream",
     "text": [
      "Initially, clinical services program functions shall include those designated below, subject \n",
      "to the limitatio ns specified:  \n",
      " \n",
      "Describe Overall Service To Be Provided : Upon written approval from Aetna Aetna , \n",
      "Supplier  will perform  the following services for Medicare Advantage Membership only:  \n",
      " Post service, post payment review of inpatient claims paid under a DRG \n",
      "meth odology to check that it was medically appropriate for the patient to be treated \n",
      "inpatient rather than outpatient. Supplier  will provide a written notice to the \n",
      "provider that explains the reason for change in setting for services audited and will \n",
      "provide c linical  and/or CMS payment policy  sourcing to support findings.  Post service, post payment review of Home Health Care claims for 1) qualification \n",
      "of services; 2 ) adherence  to medically appropriate protocols and procedures; and 3)  \n",
      "validation of correct cod ing and billing by the provider. Supplier  will provide a \n",
      "written notice to the provider that explains the change in service level /or coding  \n",
      "based on clinical sourcing and/or CMS payment guidelines.  Post service, post payment review of Inpatient Rehabilita tion Facility  claims for 1)  \n",
      "qualification of services; 2 ) adherence  to medically appropriate protocols and \n",
      "procedures; and 3)  validation of correct coding and billing by the provider. Supplier  will provide a written notice to the provider that explains the  change in \n",
      "service level based on clinical sourcing and/or CMS payment guidelines.  Post service, post payment review of Skilled Nursing Facility claims for 1) \n",
      "qualification of services; 2) adherence to medically appropriate protocols and \n",
      "procedures; and 3 ) validation of correct coding and billing by the provider. Supplier  will provide a written notice to the provider that explains the change in \n",
      "service level based on clinical sourcing and/or CMS payment guidelines. 2.\n"
     ]
    }
   ],
   "source": [
    "print(ctx['text'])"
   ]
  },
  {
   "cell_type": "markdown",
   "id": "81541094",
   "metadata": {},
   "source": [
    "## Step 2: Generate Q&A Pairs"
   ]
  },
  {
   "cell_type": "code",
   "execution_count": 19,
   "id": "9c5c2c5c",
   "metadata": {},
   "outputs": [
    {
     "name": "stdout",
     "output_type": "stream",
     "text": [
      "Generating 20 Q&A pairs...\n"
     ]
    },
    {
     "name": "stderr",
     "output_type": "stream",
     "text": [
      "Generating Q&A:   0%|          | 0/20 [00:00<?, ?it/s]"
     ]
    },
    {
     "name": "stdout",
     "output_type": "stream",
     "text": [
      "\n",
      "Q&A 1:\n",
      "Q: What must the Subcontractor provide to the Business Associate regarding insurance coverage?\n",
      "A: B - A certificate of insurance evidencing coverage\n"
     ]
    },
    {
     "name": "stderr",
     "output_type": "stream",
     "text": [
      "Generating Q&A:   5%|▌         | 1/20 [00:02<00:40,  2.11s/it]"
     ]
    },
    {
     "name": "stdout",
     "output_type": "stream",
     "text": [
      "\n",
      "Q&A 2:\n",
      "Q: What does the term \"Processing\" refer to in the context of Verscend Information Assets?\n",
      "A: B - Any operation performed upon information assets, whether automatic or manual\n"
     ]
    },
    {
     "name": "stderr",
     "output_type": "stream",
     "text": [
      "Generating Q&A:  10%|█         | 2/20 [00:04<00:40,  2.23s/it]"
     ]
    },
    {
     "name": "stdout",
     "output_type": "stream",
     "text": [
      "\n",
      "Q&A 3:\n",
      "Q: What is required for Cotiviti Global Assets to access Client’s Claims or Protected Health Information from outside the U.S.?\n",
      "A: C - Access must be via a Virtual Private Network (VPN) Citrix tunnel and comply with DSA obligations\n"
     ]
    },
    {
     "name": "stderr",
     "output_type": "stream",
     "text": [
      "Generating Q&A:  15%|█▌        | 3/20 [00:06<00:39,  2.35s/it]"
     ]
    },
    {
     "name": "stdout",
     "output_type": "stream",
     "text": [
      "\n",
      "Q&A 4:\n",
      "Q: What is required of the Subcontractor in terms of insurance coverage under the MSA with Aerotek?\n",
      "A: B - Subcontractor must maintain insurance at its sole expense, consistent with industry standards.\n"
     ]
    },
    {
     "name": "stderr",
     "output_type": "stream",
     "text": [
      "Generating Q&A:  20%|██        | 4/20 [00:09<00:39,  2.45s/it]"
     ]
    },
    {
     "name": "stdout",
     "output_type": "stream",
     "text": [
      "\n",
      "Q&A 5:\n",
      "Q: What is required of the Subcontractor in terms of insurance coverage according to the MSA with Aerotek?\n",
      "A: B - Subcontractor must maintain insurance coverage consistent with industry standards at its sole expense.\n"
     ]
    },
    {
     "name": "stderr",
     "output_type": "stream",
     "text": [
      "Generating Q&A:  25%|██▌       | 5/20 [00:12<00:38,  2.59s/it]"
     ]
    },
    {
     "name": "stdout",
     "output_type": "stream",
     "text": [
      "\n",
      "Q&A 6:\n",
      "Q: What security standards must the Vendor comply with when handling Highly Sensitive Information?\n",
      "A: B - The HITRUST Security control standards or other accepted industry practices\n"
     ]
    },
    {
     "name": "stderr",
     "output_type": "stream",
     "text": [
      "Generating Q&A:  30%|███       | 6/20 [00:14<00:35,  2.56s/it]"
     ]
    },
    {
     "name": "stdout",
     "output_type": "stream",
     "text": [
      "\n",
      "Q&A 7:\n",
      "Q: Under what condition can Verscend suspend the provision of Support Services to the Customer?\n",
      "A: C - If the Customer has an overdue balance under this Agreement or any other agreement with Verscend.\n"
     ]
    },
    {
     "name": "stderr",
     "output_type": "stream",
     "text": [
      "Generating Q&A:  35%|███▌      | 7/20 [00:18<00:36,  2.82s/it]"
     ]
    },
    {
     "name": "stdout",
     "output_type": "stream",
     "text": [
      "\n",
      "Q&A 8:\n",
      "Q: What security standards must the Vendor comply with when handling Highly Sensitive Information according to the Security Addendum?\n",
      "A: D - HITRUST Security control standards or other accepted industry practices, and PCI DSS if handling payment cardholder information\n"
     ]
    },
    {
     "name": "stderr",
     "output_type": "stream",
     "text": [
      "Generating Q&A:  40%|████      | 8/20 [00:21<00:33,  2.82s/it]"
     ]
    },
    {
     "name": "stdout",
     "output_type": "stream",
     "text": [
      "\n",
      "Q&A 9:\n",
      "Q: What is the time frame within which the subcontractor must report unauthorized use or disclosure of Protected Health Information?\n",
      "A: B - Within 24 hours\n"
     ]
    },
    {
     "name": "stderr",
     "output_type": "stream",
     "text": [
      "Generating Q&A:  45%|████▌     | 9/20 [00:23<00:31,  2.83s/it]"
     ]
    },
    {
     "name": "stdout",
     "output_type": "stream",
     "text": [
      "\n",
      "Q&A 10:\n",
      "Q: What is the time period covered by the Supplemental Criminal Record Conviction Database search as mentioned in the Security Addendum/Exhibit?\n",
      "A: C - 7 years\n"
     ]
    },
    {
     "name": "stderr",
     "output_type": "stream",
     "text": [
      "Generating Q&A:  50%|█████     | 10/20 [00:26<00:26,  2.63s/it]"
     ]
    },
    {
     "name": "stdout",
     "output_type": "stream",
     "text": [
      "\n",
      "Q&A 11:\n",
      "Q: What is HDI required to do with Aetna's confidential information, according to the MSA?\n",
      "A: C - Keep it confidential unless required by law\n"
     ]
    },
    {
     "name": "stderr",
     "output_type": "stream",
     "text": [
      "Generating Q&A:  55%|█████▌    | 11/20 [00:28<00:23,  2.62s/it]"
     ]
    },
    {
     "name": "stdout",
     "output_type": "stream",
     "text": [
      "\n",
      "Q&A 12:\n",
      "Q: How can a client withdraw their consent to receive future notices and disclosures electronically from Cotiviti?\n",
      "A: B - By declining to sign a document in DocuSign and selecting the checkbox to withdraw consent\n"
     ]
    },
    {
     "name": "stderr",
     "output_type": "stream",
     "text": [
      "Generating Q&A:  60%|██████    | 12/20 [00:31<00:21,  2.63s/it]"
     ]
    },
    {
     "name": "stdout",
     "output_type": "stream",
     "text": [
      "\n",
      "Q&A 13:\n",
      "Q: What is the required action for the Subcontractor in case of a breach of unsecured Protected Health Information according to the BAA?\n",
      "A: C - Provide an initial report to Business Associate within 24 hours\n"
     ]
    },
    {
     "name": "stderr",
     "output_type": "stream",
     "text": [
      "Generating Q&A:  65%|██████▌   | 13/20 [00:33<00:17,  2.54s/it]"
     ]
    },
    {
     "name": "stdout",
     "output_type": "stream",
     "text": [
      "\n",
      "Q&A 14:\n",
      "Q: How can a client withdraw their consent to receive electronic notices and disclosures from Cotiviti?\n",
      "A: A - By declining to sign a document within their DocuSign account and selecting a checkbox\n"
     ]
    },
    {
     "name": "stderr",
     "output_type": "stream",
     "text": [
      "Generating Q&A:  70%|███████   | 14/20 [00:36<00:15,  2.62s/it]"
     ]
    },
    {
     "name": "stdout",
     "output_type": "stream",
     "text": [
      "\n",
      "Q&A 15:\n",
      "Q: What is the procedure if attempts to verify an applicant’s educational credentials are unsuccessful?\n",
      "A: C - Customer accepts an Approved Copy of the credential if the original was viewed in-person.\n"
     ]
    },
    {
     "name": "stderr",
     "output_type": "stream",
     "text": [
      "Generating Q&A:  75%|███████▌  | 15/20 [00:38<00:12,  2.55s/it]"
     ]
    },
    {
     "name": "stdout",
     "output_type": "stream",
     "text": [
      "\n",
      "Q&A 16:\n",
      "Q: What does the legal document specify about the processing of Verscend Information Assets?\n",
      "A: B - Subcontractor must process the information assets only as authorized and necessary to perform the Services.\n"
     ]
    },
    {
     "name": "stderr",
     "output_type": "stream",
     "text": [
      "Generating Q&A:  80%|████████  | 16/20 [00:41<00:10,  2.53s/it]"
     ]
    },
    {
     "name": "stdout",
     "output_type": "stream",
     "text": [
      "\n",
      "Q&A 17:\n",
      "Q: What are the minimum recordkeeping requirements for initial examinations by psychologists for Medicaid/NJ FamilyCare patients?\n",
      "A: D - All of the above must be included\n"
     ]
    },
    {
     "name": "stderr",
     "output_type": "stream",
     "text": [
      "Generating Q&A:  85%|████████▌ | 17/20 [00:43<00:07,  2.54s/it]"
     ]
    },
    {
     "name": "stdout",
     "output_type": "stream",
     "text": [
      "\n",
      "Q&A 18:\n",
      "Q: What is one of the responsibilities of the Business Associate regarding PHI and EPHI security?\n",
      "A: A - Ensure photocopiers and fax machines do not store any PHI or EPHI.\n"
     ]
    },
    {
     "name": "stderr",
     "output_type": "stream",
     "text": [
      "Generating Q&A:  90%|█████████ | 18/20 [00:46<00:05,  2.64s/it]"
     ]
    },
    {
     "name": "stdout",
     "output_type": "stream",
     "text": [
      "\n",
      "Q&A 19:\n",
      "Q: What is the maximum time allowed for installing critical security patches on systems processing Company PHI?\n",
      "A: B - 30 days after vendor release\n"
     ]
    },
    {
     "name": "stderr",
     "output_type": "stream",
     "text": [
      "Generating Q&A:  95%|█████████▌| 19/20 [00:48<00:02,  2.44s/it]"
     ]
    },
    {
     "name": "stdout",
     "output_type": "stream",
     "text": [
      "\n",
      "Q&A 20:\n",
      "Q: What is included under the definition of Personal Information according to the MSA?\n",
      "A: C - All data obtained from a consumer reporting agency and data revealing race, ethnicity, and sexual orientation\n"
     ]
    },
    {
     "name": "stderr",
     "output_type": "stream",
     "text": [
      "Generating Q&A:  95%|█████████▌| 19/20 [00:51<00:02,  2.69s/it]"
     ]
    },
    {
     "name": "stdout",
     "output_type": "stream",
     "text": [
      "\n",
      "Generated 20 Q&A pairs\n"
     ]
    },
    {
     "name": "stderr",
     "output_type": "stream",
     "text": [
      "\n"
     ]
    }
   ],
   "source": [
    "TARGET_QA_COUNT = 20\n",
    "qa_dataset = []\n",
    "\n",
    "random.seed(42)\n",
    "selected_contexts = random.sample(contexts, min(TARGET_QA_COUNT, len(contexts)))\n",
    "\n",
    "print(f\"Generating {TARGET_QA_COUNT} Q&A pairs...\")\n",
    "\n",
    "for i, context in enumerate(tqdm(selected_contexts, desc=\"Generating Q&A\")):\n",
    "    qa_pair = generate_qa_pair(context)\n",
    "    \n",
    "    if qa_pair:\n",
    "        qa_dataset.append(qa_pair)\n",
    "        print(f\"\\nQ&A {len(qa_dataset)}:\")\n",
    "        print(f\"Q: {qa_pair['question']}\")\n",
    "        print(f\"A: {qa_pair['correct_answer']} - {qa_pair['options'][qa_pair['correct_answer']]}\")\n",
    "    \n",
    "    time.sleep(1)\n",
    "    \n",
    "    if len(qa_dataset) >= TARGET_QA_COUNT:\n",
    "        break\n",
    "\n",
    "print(f\"\\nGenerated {len(qa_dataset)} Q&A pairs\")"
   ]
  },
  {
   "cell_type": "markdown",
   "id": "9d55a313",
   "metadata": {},
   "source": [
    "## Step 3: Process and Save Dataset"
   ]
  },
  {
   "cell_type": "code",
   "execution_count": 35,
   "id": "86f1bc7e",
   "metadata": {},
   "outputs": [],
   "source": [
    "# create a function to add an id to each of the questions\n",
    "def add_ids_to_qa(qa_list: List[Dict]) -> List[Dict]:\n",
    "    for i, qa in enumerate(qa_list):\n",
    "        qa['id'] = f\"qa_{i+1}\"\n",
    "    return qa_list\n",
    "\n",
    "\n",
    "def evaluate_qa_factuality(qa_item: Dict[str, Any]) -> Dict[str, Any]:\n",
    "    \"\"\"Evaluate the factuality of a Q&A pair given its context using an LLM critic.\"\"\"\n",
    "    \n",
    "    system_prompt = textwrap.dedent(f\"\"\"\n",
    "        You are an expert legal document analyst and fact-checker.\n",
    "        Your task is to evaluate whether a multiple-choice question and its correct answer are factually accurate based on the provided legal document context.\n",
    "        \n",
    "        Evaluation criteria:\n",
    "        1. The question should be answerable from the given context\n",
    "        2. The correct answer should be directly supported by the context\n",
    "        3. The answer should not contain information not present in the context\n",
    "        4. The question should not be ambiguous or misleading\n",
    "        \n",
    "        Your output should be like the following Python dictionary structure:\n",
    "        \n",
    "        {escape_curly_braces({\n",
    "            \"factuality\": 1, \n",
    "            \"critic_explanation\": \"Explanation of why the Q&A is factually correct or incorrect based on the context\"\n",
    "        })}\n",
    "        \n",
    "        ONLY output the requested dictionary.\n",
    "        \"\"\")\n",
    "    \n",
    "    human_prompt = textwrap.dedent(f\"\"\"\n",
    "        Evaluate the factuality of this Q&A pair based on the provided legal document context:\n",
    "        \n",
    "        **Context:**\n",
    "        {escape_curly_braces(qa_item.get('context', ''))}\n",
    "        \n",
    "        **Question:**\n",
    "        {escape_curly_braces(qa_item['question'])}\n",
    "        \n",
    "        **Options:**\n",
    "        {escape_curly_braces(qa_item['options'])}\n",
    "        \n",
    "        **Marked Correct Answer:**\n",
    "        {escape_curly_braces(qa_item['correct_answer'])} - {escape_curly_braces(qa_item['options'][qa_item['correct_answer']])}\n",
    "        \n",
    "        **Explanation:**\n",
    "        {escape_curly_braces(qa_item['explanation'])}\n",
    "        \n",
    "        **Client:** {escape_curly_braces(qa_item.get('client', 'unknown'))}\n",
    "        **Document Type:** {escape_curly_braces(qa_item.get('document_type', 'unknown'))}\n",
    "        \"\"\")\n",
    "    \n",
    "    prompt = ChatPromptTemplate.from_messages(\n",
    "        [\n",
    "            (\"system\", system_prompt),\n",
    "            (\"human\", human_prompt),\n",
    "        ]\n",
    "    )\n",
    "    \n",
    "    try:\n",
    "        # Create LangChain chain\n",
    "        chain = prompt | azure_llm\n",
    "        output = chain.invoke({})\n",
    "        \n",
    "        evaluation_text = output.content.strip()\n",
    "        \n",
    "        # Clean unicode escape sequences and other problematic characters\n",
    "        import re\n",
    "        # Remove Unicode escape sequences\n",
    "        evaluation_text = re.sub(r'\\\\u[0-9a-fA-F]{4}', '', evaluation_text)\n",
    "        # Remove potential markdown code blocks\n",
    "        evaluation_text = re.sub(r'```[a-zA-Z]*\\n?', '', evaluation_text)\n",
    "        # Remove extra whitespace and newlines\n",
    "        evaluation_text = re.sub(r'\\s+', ' ', evaluation_text).strip()\n",
    "        \n",
    "        # Try to extract dictionary if it's wrapped in other text\n",
    "        dict_match = re.search(r'\\{.*\\}', evaluation_text, re.DOTALL)\n",
    "        if dict_match:\n",
    "            evaluation_text = dict_match.group(0)\n",
    "        \n",
    "        evaluation_dict = eval(evaluation_text)\n",
    "        \n",
    "        # Validate that we got the expected keys\n",
    "        if not isinstance(evaluation_dict, dict) or 'factuality' not in evaluation_dict or 'critic_explanation' not in evaluation_dict:\n",
    "            raise ValueError(\"Invalid response format from LLM\")\n",
    "        \n",
    "        # Add evaluation results to the original qa_item\n",
    "        qa_item_evaluated = qa_item.copy()\n",
    "        qa_item_evaluated['factuality'] = evaluation_dict['factuality']\n",
    "        qa_item_evaluated['critic_explanation'] = evaluation_dict['critic_explanation']\n",
    "        \n",
    "        return qa_item_evaluated\n",
    "        \n",
    "    except Exception as e:\n",
    "        print(f\"Error evaluating Q&A factuality: {e}\")\n",
    "        print(f\"Raw LLM response: {output.content[:200] if 'output' in locals() else 'No output captured'}...\")\n",
    "        # Return original item with error indication\n",
    "        qa_item_error = qa_item.copy()\n",
    "        qa_item_error['factuality'] = 0\n",
    "        qa_item_error['critic_explanation'] = f\"Error during evaluation: {e}\"\n",
    "        return qa_item_error"
   ]
  },
  {
   "cell_type": "code",
   "execution_count": 36,
   "id": "2967b875",
   "metadata": {},
   "outputs": [
    {
     "name": "stdout",
     "output_type": "stream",
     "text": [
      "Saved 20 Q&A pairs to qa_list.json\n",
      "\n",
      "Dataset summary:\n",
      "Clients: {'Aerotek': 12, '1199 SEIU National Benefit Funds': 5, 'Aetna Life Insurance Company': 3}\n",
      "Document types: {'MSA': 8, 'SOW': 3, 'Security Addendum/Exhibit': 4, 'Amendment': 1, 'BAA': 2, 'Addendum': 2}\n",
      "\n",
      "Sample Q&A:\n",
      "\n",
      "1. What must the Subcontractor provide to the Business Associate regarding insurance coverage?\n",
      "    A: A verbal confirmation of insurance coverage\n",
      "  ✓ B: A certificate of insurance evidencing coverage\n",
      "    C: A copy of the insurance policy\n",
      "    D: A letter from the insurance provider\n",
      "\n",
      "2. What does the term \"Processing\" refer to in the context of Verscend Information Assets?\n",
      "    A: The erasure of sensitive data only\n",
      "    B: The disclosure of information assets to third parties\n",
      "  ✓ C: Any operation performed upon information assets, whether automatic or manual\n",
      "    D: Only the storage of information assets\n"
     ]
    }
   ],
   "source": [
    "qa_dataset_shuffled = shuffle_options(qa_dataset, seed=42)\n",
    "qa_dataset_shuffled = add_ids_to_qa(qa_dataset_shuffled)\n",
    "\n",
    "with open(\"qa_list.json\", \"w\") as f:\n",
    "    json.dump(qa_dataset_shuffled, f, indent=4)\n",
    "\n",
    "print(f\"Saved {len(qa_dataset_shuffled)} Q&A pairs to qa_list.json\")\n",
    "\n",
    "print(\"\\nDataset summary:\")\n",
    "clients = [qa['client'] for qa in qa_dataset_shuffled]\n",
    "doc_types = [qa['document_type'] for qa in qa_dataset_shuffled]\n",
    "\n",
    "from collections import Counter\n",
    "print(f\"Clients: {dict(Counter(clients))}\")\n",
    "print(f\"Document types: {dict(Counter(doc_types))}\")\n",
    "\n",
    "print(\"\\nSample Q&A:\")\n",
    "for i, qa in enumerate(qa_dataset_shuffled[:2]):\n",
    "    print(f\"\\n{i+1}. {qa['question']}\")\n",
    "    for opt, text in qa['options'].items():\n",
    "        marker = \"✓\" if opt == qa['correct_answer'] else \" \"\n",
    "        print(f\"  {marker} {opt}: {text}\")"
   ]
  },
  {
   "cell_type": "markdown",
   "id": "ccd45896",
   "metadata": {},
   "source": [
    "## Step 4: Evaluate Q&A Factuality"
   ]
  },
  {
   "cell_type": "code",
   "execution_count": 37,
   "id": "c876629a",
   "metadata": {},
   "outputs": [
    {
     "data": {
      "text/plain": [
       "[{'question': 'What must the Subcontractor provide to the Business Associate regarding insurance coverage?',\n",
       "  'options': {'A': 'A verbal confirmation of insurance coverage',\n",
       "   'B': 'A certificate of insurance evidencing coverage',\n",
       "   'C': 'A copy of the insurance policy',\n",
       "   'D': 'A letter from the insurance provider'},\n",
       "  'correct_answer': 'B',\n",
       "  'explanation': 'The document specifies that the Subcontractor must provide a certificate of insurance evidencing coverage to the Business Associate upon request.',\n",
       "  'source': 's3://ml-legal-restricted/contract-docs/51804/Aerotek-Verscend Master Staffing Agency Agreement v1 03-29-18 client redlined (SBC 06.04.18).docx',\n",
       "  'client': 'Aerotek',\n",
       "  'document_type': 'MSA',\n",
       "  'context': 'Subcontractor shall indemnify and hold harmless Business Associate against, and reimburse Business Associate for, any expense, loss, damages, fees (including reasonable attorney’s fees), costs, claims or liabilities of any kind arising out of or related to any actions, whether asserted or threatened, or whether instigated by a third party or by Subcontractor (i) arising out of or related to Subcontractor’s acts and omissions associated with Subcontractor’s obligations under this Agreement or (ii) its use or disclosure of PHI or the use and disclosure of PHI by an agent or subcontractor of Subcontractor. Subcontractor shall obtain and maintain at its sole expense, insurance in amounts consistent with industry standards and sufficient to cover liability incurred and losses suffered by Business Associate for Subcontractor’s non-compliance with this agreement or HIPAA. Subcontractor shall provide a certificate of insurance evidencing such coverage to Business Associate upon request. In the event the Services Agreement specifies insurance coverage requirements, those requirements shall prevail over the more general coverage obligation noted herein. 8. Miscellaneous\\n\\n8.1\\tEffect. The terms and provisions of this Agreement shall supersede any other conflicting or inconsistent terms and provisions in any other agreement between the parties. This Agreement shall be binding upon, and shall inure to the benefit of the parties hereto, and their respective permitted successors and assigns, but neither party may assign this Agreement without the prior written consent of the other, which consent shall not be unreasonably withheld or delayed; provided, however, that Subcontractor may assign its rights hereunder without such consent to any parent, subsidiary or affiliate or to any successor to all or substantially all of its business. 8.2\\tRegulatory References.',\n",
       "  'id': 'qa_1'},\n",
       " {'question': 'What does the term \"Processing\" refer to in the context of Verscend Information Assets?',\n",
       "  'options': {'A': 'The erasure of sensitive data only',\n",
       "   'B': 'The disclosure of information assets to third parties',\n",
       "   'C': 'Any operation performed upon information assets, whether automatic or manual',\n",
       "   'D': 'Only the storage of information assets'},\n",
       "  'correct_answer': 'C',\n",
       "  'explanation': 'The document defines \"Processing\" as any operation or set of operations performed upon Verscend Information Assets, whether or not by automatic means, encompassing a wide range of actions.',\n",
       "  'source': 's3://ml-legal-restricted/contract-docs/51804/Aerotek-Verscend Master Staffing Agency Agreement v1 03-29-18 client redlined (SBC 06.04.18).docx',\n",
       "  'client': 'Aerotek',\n",
       "  'document_type': 'MSA',\n",
       "  'context': 'Personal Information includes but is not limited to (i) all government-issued identification numbers, (ii) all financial account numbers (including payment card information and cardholder data, as defined by the Payment Card Industry Data Security Standard (\"PCI DSS\"), (iii) individual medical records (including Protected Health Information, as defined below) and biometric information, (iv) all data obtained from a consumer reporting agency (such as employee background investigation reports, credit reports, and credit scores), and (v) data elements revealing race, ethnicity, national origin, religion, trade union membership, sex life or sexual orientation, and criminal records or allegations of crimes. \"Processing\" or \"Process\" means any operation or set of operations which is performed upon Verscend Information Assets, whether or not by automatic means, such as access, collection, compilation, use, disclosure, duplication, organization, storage, alteration, transmission, combination, redaction, erasure, or destruction. \"Protected Health Information\" shall have the same meaning as the term “Protected Health Information\" in 45 CFR § 160.103. \"Services\" means any and all services that Verscend requests the Subcontractor to perform under the\\nAgreement that involves Processing of Verscend Information Assets. Privacy and Data Protection Obligations. Subcontractor shall provide a security representative as the single point of contact for Verscend on all security issues, who shall be responsible for overseeing compliance with this Addendum. Subcontractor shall Process Verscend Information Assets only as authorized and as necessary to perform the Services.',\n",
       "  'id': 'qa_2'},\n",
       " {'question': 'What is required for Cotiviti Global Assets to access Client’s Claims or Protected Health Information from outside the U.S.?',\n",
       "  'options': {'A': 'Access must be through a public network',\n",
       "   'B': 'Access requires prior written consent but no specific network requirements',\n",
       "   'C': 'Access must be via a Virtual Private Network (VPN) Citrix tunnel and comply with DSA obligations',\n",
       "   'D': 'Access can be freely done without any restrictions'},\n",
       "  'correct_answer': 'C',\n",
       "  'explanation': 'The document specifies that access from outside the U.S. must be via a VPN Citrix tunnel and in compliance with Cotiviti’s obligations under the DSA.',\n",
       "  'source': 's3://ml-legal-restricted/contract-docs/70428/Dynamics_-_70428_signed.pdf',\n",
       "  'client': '1199 SEIU National Benefit Funds',\n",
       "  'document_type': 'SOW',\n",
       "  'context': 'However, Cotiviti Global Assets may access Client’s Claims or Protected Health Information from \\noutside the U.S. in performance of the Services under this SOW provided that such access is via a Virtual \\nPrivate Network (VPN) Citrix tunnel and in compliance with Cotiviti’s obligations under the DSA. Any \\nchanges to the access of Client’s Claims or Protected Health Information from outside of the U.S. requires \\nthe prior written consent of Client. Except as stated herein, there are no Deliverables, as that term is used \\non the Agreement, under this SOW. The policies, reviews, Recommendations, decision points, reports \\nand documentation provided by Cotiviti hereunder are Verisk IP, as defined in the Agreement. The \\nProtected Health Information provided by Client is the sole property of Client. For purposes of clarity, \\nany information identifiable to Client or Participants shall be used solely for providing Services to Client \\nand is not Verisk IP. Subject to the restrictions on reverse engineering and creation of derivative works set forth in the \\nAgreement, and further subject to, for purposes of clarity, Client’s agreement that it will not internalize, \\nadopt or use the Verisk IP in its own systems or processes, Client may use the Verisk IP provided \\nhereunder for purposes of paying Claims, supporting the Appeals process, for internal financial reporting \\nand, in the case of an Opportunity Analysis, to determine whether to expand the services provided by \\nCotiviti. 1.1. Ongoing Opportunity Analysis and Policy Selection. From time to time during the Term of this SOW, Cotiviti will provide analytics and insight to \\ndetermine opportunities for cost containment, quality measurement or financial optimization \\n(“Opportunity Analysis”). Cotiviti and Client will agree on a strategy for cost containment that \\nmay include, but will not be limited to, policy adoption and implementation, or pre-pay manual \\nreview of Claims.',\n",
       "  'id': 'qa_3'},\n",
       " {'question': 'What is required of the Subcontractor in terms of insurance coverage under the MSA with Aerotek?',\n",
       "  'options': {'A': 'Subcontractor must maintain insurance at Business Associate’s expense.',\n",
       "   'B': 'Subcontractor must maintain insurance at its sole expense, consistent with industry standards.',\n",
       "   'C': 'Subcontractor is not required to maintain insurance.',\n",
       "   'D': 'Subcontractor must only provide insurance if requested by a third party.'},\n",
       "  'correct_answer': 'B',\n",
       "  'explanation': 'The agreement specifies that the Subcontractor must obtain and maintain insurance at its sole expense, consistent with industry standards and sufficient to cover liabilities related to non-compliance with the agreement or HIPAA.',\n",
       "  'source': 's3://ml-legal-restricted/contract-docs/51804/Aerotek-Verscend Master Staffing Agency Agreement v1 03-29-18 redlined.docx',\n",
       "  'client': 'Aerotek',\n",
       "  'document_type': 'MSA',\n",
       "  'context': 'Subcontractor shall indemnify and hold harmless Business Associate against, and reimburse Business Associate for, any expense, loss, damages, fees (including reasonable attorney’s fees), costs, claims or liabilities of any kind arising out of or related to any actions, whether asserted or threatened, or whether instigated by a third party or by Subcontractor (i) arising out of or related to Subcontractor’s acts and omissions associated with Subcontractor’s obligations under this Agreement or (ii) its use or disclosure of PHI or the use and disclosure of PHI by an agent or subcontractor of Subcontractor. Subcontractor shall obtain and maintain at its sole expense, insurance in amounts consistent with industry standards and sufficient to cover liability incurred and losses suffered by Business Associate for Subcontractor’s non-compliance with this agreement or HIPAA. Subcontractor shall provide a certificate of insurance evidencing such coverage to Business Associate upon request. In the event the Services Agreement specifies insurance coverage requirements, those requirements shall prevail over the more general coverage obligation noted herein. 8. Miscellaneous\\n\\n8.1\\tEffect. The terms and provisions of this Agreement shall supersede any other conflicting or inconsistent terms and provisions in any other agreement between the parties. This Agreement shall be binding upon, and shall inure to the benefit of the parties hereto, and their respective permitted successors and assigns, but neither party may assign this Agreement without the prior written consent of the other, which consent shall not be unreasonably withheld or delayed; provided, however, that Subcontractor may assign its rights hereunder without such consent to any parent, subsidiary or affiliate or to any successor to all or substantially all of its business. 8.2\\tRegulatory References.',\n",
       "  'id': 'qa_4'},\n",
       " {'question': 'What is required of the Subcontractor in terms of insurance coverage according to the MSA with Aerotek?',\n",
       "  'options': {'A': 'Insurance coverage must be equal to the exact amount specified by HIPAA.',\n",
       "   'B': 'Insurance must be maintained at the expense of Business Associate.',\n",
       "   'C': 'Subcontractor must maintain insurance coverage consistent with industry standards at its sole expense.',\n",
       "   'D': 'Insurance is optional for the Subcontractor.'},\n",
       "  'correct_answer': 'C',\n",
       "  'explanation': 'The MSA specifies that the Subcontractor must obtain and maintain insurance at its sole expense in amounts consistent with industry standards to cover liabilities and losses related to non-compliance with the agreement or HIPAA.',\n",
       "  'source': 's3://ml-legal-restricted/contract-docs/51804/Aerotek-Verscend Master Staffing Agency Agreement v1 (SBC 03.26.18).docx',\n",
       "  'client': 'Aerotek',\n",
       "  'document_type': 'MSA',\n",
       "  'context': 'Subcontractor shall indemnify and hold harmless Business Associate against, and reimburse Business Associate for, any expense, loss, damages, fees (including reasonable attorney’s fees), costs, claims or liabilities of any kind arising out of or related to any actions, whether asserted or threatened, or whether instigated by a third party or by Subcontractor (i) arising out of or related to Subcontractor’s acts and omissions associated with Subcontractor’s obligations under this Agreement or (ii) its use or disclosure of PHI or the use and disclosure of PHI by an agent or subcontractor of Subcontractor. Subcontractor shall obtain and maintain at its sole expense, insurance in amounts consistent with industry standards and sufficient to cover liability incurred and losses suffered by Business Associate for Subcontractor’s non-compliance with this agreement or HIPAA. Subcontractor shall provide a certificate of insurance evidencing such coverage to Business Associate upon request. In the event the Services Agreement specifies insurance coverage requirements, those requirements shall prevail over the more general coverage obligation noted herein. 8. Miscellaneous\\n\\n8.1\\tEffect. The terms and provisions of this Agreement shall supersede any other conflicting or inconsistent terms and provisions in any other agreement between the parties. This Agreement shall be binding upon, and shall inure to the benefit of the parties hereto, and their respective permitted successors and assigns, but neither party may assign this Agreement without the prior written consent of the other, which consent shall not be unreasonably withheld or delayed; provided, however, that Subcontractor may assign its rights hereunder without such consent to any parent, subsidiary or affiliate or to any successor to all or substantially all of its business. 8.2\\tRegulatory References.',\n",
       "  'id': 'qa_5'},\n",
       " {'question': 'What security standards must the Vendor comply with when handling Highly Sensitive Information?',\n",
       "  'options': {'A': 'Only the Payment Card Industry Data Security Standard (PCI DSS)',\n",
       "   'B': 'The HITRUST Security control standards or other accepted industry practices',\n",
       "   'C': 'Any local data protection laws relevant to the Vendor',\n",
       "   'D': 'Specific security standards provided by the Client'},\n",
       "  'correct_answer': 'B',\n",
       "  'explanation': 'The Vendor must implement safeguards no less rigorous than accepted industry practices including the HITRUST Security control standards or other applicable standards for information security.',\n",
       "  'source': 's3://ml-legal-restricted/contract-docs/71254/4310 Cotiviti Inc. Data Security Agreement Vendor Cotiviti Acceptance 6-21-23.docx',\n",
       "  'client': '1199 SEIU National Benefit Funds',\n",
       "  'document_type': 'Security Addendum/Exhibit',\n",
       "  'context': 'Without limiting the Vendor’s obligations under Section C. 1, the Vendor shall implement administrative, physical and technical safeguards to protect all Highly Sensitive Information that are no less rigorous than accepted industry practices including the HITRUST Security control standards or other applicable standards for information security  and shall ensure that all such safeguards, including the manner in which Highly Sensitive Information, is collected, accessed, used, stored, processed, disposed of and disclosed, comply with applicable international, federal and state data protection and privacy laws, as well as the terms and conditions of the  Agreement. If, in the course of its engagement with the Fund, the Vendor has access to or will collect, access, use, store, process, dispose of or disclose credit, debit or other payment cardholder information, Vendor shall at all times remain in compliance with the Payment Card Industry Data Security Standard (“PCI DSS”) requirements, including remaining aware at all times of changes to the PCI DSS and promptly implementing all procedures and practices as may be necessary to remain in compliance with the PCI DSS, in each case, at the Vendor’s sole cost and expense.',\n",
       "  'id': 'qa_6'},\n",
       " {'question': 'Under what condition can Verscend suspend the provision of Support Services to the Customer?',\n",
       "  'options': {'A': 'If the Customer has an overdue balance under this Agreement or any other agreement with Verscend.',\n",
       "   'B': 'If there is a change in designated contacts without notice.',\n",
       "   'C': 'If the Customer fails to complete designated contact training.',\n",
       "   'D': 'If the Customer does not address questions and concerns of other employees.'},\n",
       "  'correct_answer': 'A',\n",
       "  'explanation': 'Verscend may suspend Support Services if the Customer has an overdue balance under this Agreement or any other agreement with Verscend.',\n",
       "  'source': 's3://ml-legal-restricted/contract-docs/52910/1199 MSLA STARSSol Amend2 09-10-18 SEL.doc',\n",
       "  'client': '1199 SEIU National Benefit Funds',\n",
       "  'document_type': 'Amendment',\n",
       "  'context': 'Customer agree that the Designated Contacts:  will  be  trained\\nin the operation of the Software and the  HealthConnect  Services;  will  be\\nresponsible for  addressing  questions  and  concerns  of  Customer’s  other\\nemployees who use the Software and HealthConnect Services and relaying  such\\nquestions and concerns, if necessary, to Verscend; will have  the  authority\\nto make decisions on Customer’s behalf  that  relate  to  the  Software  and\\nHealthConnect Services; and will, in Verscend’s judgment, have  successfully\\ncompleted any training that  Verscend  from  time  to  time  requires. Any\\nchanges to the Designated Contacts  may  be  made  upon  written  notice  to\\nVerscend. 9. Suspension. Without  limiting  Verscend  other  remedies  under  this\\nAgreement and pursuant to applicable law, if the  Customer  has  an  overdue\\nbalance under this Agreement  or  under  any  other  agreement  between  the\\nCustomer and  Verscend,  Verscend  may  suspend  the  provision  of  Support\\nServices to the Customer until the overdue balance is  paid  in  full. This\\nsuspension will not affect the duration  or  payment  requirements  of  this\\nAgreement.',\n",
       "  'id': 'qa_7'},\n",
       " {'question': 'What security standards must the Vendor comply with when handling Highly Sensitive Information according to the Security Addendum?',\n",
       "  'options': {'A': 'Both HITRUST Security control standards and PCI DSS',\n",
       "   'B': 'Only the HITRUST Security control standards',\n",
       "   'C': 'HITRUST Security control standards or other accepted industry practices, and PCI DSS if handling payment cardholder information',\n",
       "   'D': 'Only the Payment Card Industry Data Security Standard (PCI DSS)'},\n",
       "  'correct_answer': 'C',\n",
       "  'explanation': 'The document specifies that the Vendor must adhere to HITRUST Security control standards or other industry practices for general Highly Sensitive Information, and PCI DSS specifically when handling payment cardholder information.',\n",
       "  'source': 's3://ml-legal-restricted/contract-docs/71254/SEIU Security Addendum redline 5-25-23.docx',\n",
       "  'client': '1199 SEIU National Benefit Funds',\n",
       "  'document_type': 'Security Addendum/Exhibit',\n",
       "  'context': 'Without limiting the Vendor’s obligations under Section C. 1, the Vendor shall implement administrative, physical and technical safeguards to protect all Highly Sensitive Information that are no less rigorous than accepted industry practices including the HITRUST Security control standards or other applicable standards for information security  and shall ensure that all such safeguards, including the manner in which Highly Sensitive Information, is collected, accessed, used, stored, processed, disposed of and disclosed, comply with applicable international, federal and state data protection and privacy laws, as well as the terms and conditions of the  Agreement. If, in the course of its engagement with the Fund, the Vendor has access to or will collect, access, use, store, process, dispose of or disclose credit, debit or other payment cardholder information, Vendor shall at all times remain in compliance with the Payment Card Industry Data Security Standard (“PCI DSS”) requirements, including remaining aware at all times of changes to the PCI DSS and promptly implementing all procedures and practices as may be necessary to remain in compliance with the PCI DSS, in each case, at the Vendor’s sole cost and expense.',\n",
       "  'id': 'qa_8'},\n",
       " {'question': 'What is the time frame within which the subcontractor must report unauthorized use or disclosure of Protected Health Information?',\n",
       "  'options': {'A': 'Immediately',\n",
       "   'B': 'Within 48 hours',\n",
       "   'C': 'Within 24 hours',\n",
       "   'D': 'Within one week'},\n",
       "  'correct_answer': 'C',\n",
       "  'explanation': 'The document specifies that the subcontractor must report any unauthorized use or disclosure of Protected Health Information within 24 hours of discovery.',\n",
       "  'source': 's3://ml-legal-restricted/contract-docs/51804/Aerotek-Verscend Master Staffing Agency Agreement v1 03-29-18 client redlined (SBC 06.04.18).docx',\n",
       "  'client': 'Aerotek',\n",
       "  'document_type': 'MSA',\n",
       "  'context': '1.5\\t“Required By Law” shall have the same meaning as the term “required by law” in 45 CFR §164.501. 1.6\\t“Secretary” shall mean the Secretary of the Department of Health and Human Services or his designee. 1.7\\t“Security Rule” shall mean the Standards for the Security of Electronic Protected Health Information at 45 CFR Part 164, Subpart C.  \\n\\n2. Obligations and Activities of Subcontractor\\n\\n2.1\\tSubcontractor agrees not to use or disclose Protected Health Information other than as permitted or required by this Agreement or the Services Agreement or as Required by Law. 2.2\\tSubcontractor agrees to use appropriate safeguards–and to comply with the Security Rule with respect to electronic Protected Health Information–to prevent the use or disclosure of Protected Health Information other than as provided for by this Agreement or the Services Agreement. 2.3\\tWithin twenty-four (24) hours of discovery, Subcontractor agrees to provide an initial report in writing to Business Associate of any use or disclosure of the Protected Health Information, including Breaches of unsecured Protected Health Information, not provided for by this Agreement or the Services Agreement of which it becomes aware.',\n",
       "  'id': 'qa_9'},\n",
       " {'question': 'What is the time period covered by the Supplemental Criminal Record Conviction Database search as mentioned in the Security Addendum/Exhibit?',\n",
       "  'options': {'A': '7 years', 'B': '10 years', 'C': '3 years', 'D': '5 years'},\n",
       "  'correct_answer': 'A',\n",
       "  'explanation': 'The Security Addendum states that the Supplemental Criminal Record Conviction Database search covers the past seven years.',\n",
       "  'source': 's3://ml-legal-restricted/contract-docs/59686/Aerotek Modified Exhibit A - Cotiviti Inc (7 year lived and worked)Ready for Signature (SBC 07.02.20).pdf',\n",
       "  'client': 'Aerotek',\n",
       "  'document_type': 'Security Addendum/Exhibit',\n",
       "  'context': 'The IA may also consider the following factors, including but not limited to: (1) age at the time of conviction or conduct; (2) age \\nwhen released from incarceration; (3) any evidence that the individual performed the same type of work, post conviction, with the same or different \\nemployer, with no known incidents of criminal conduct; (4) length and consistency of employment history before and after the offense or conduct; (5) \\nrehabilitation efforts; (6) employment or character references and any other information regarding fitness for the applicable  position; and (7) whether \\nthe individual i s bonded under a federal, state or local bonding program. Upon receipt of the Individualized Assessment Form, a Background \\nInvestigation Analyst will consider and weigh the additional information provided by the Candidate against job related factor s and business necessity \\nto reassess his/her eligibility for the applicable position. Customer Requested Services  \\n \\nSupplemental Criminal Record Conviction Database (Nationwide Enhanced)  – Searches past seven  (7) years and consists of data obtained from \\nthe state based department of corrections, administrative office of the courts, bureau of criminal apprehension,  and/or the department of criminal \\njustice records, various county criminal records and data from other applicable government agencies where available. Possible records identified by \\nthis search are required by law to be verified at the official data source which may incur additional fees and may increase t urnaround time. County Criminal Convic tion and Social Locator Search - Searches official -source data search of domestic criminal conviction records for the past \\nseven  (7) years based, on names and addresses of current and previous residences and employment for the past seven  (7) years, both provided by \\nthe individual and developed from Social Security Number Trace. Federal  Criminal Record Conviction Search  – searches domestic criminal conviction records for  the past seven  (7) years in federal districts of \\nresidence and employment .',\n",
       "  'id': 'qa_10'},\n",
       " {'question': \"What is HDI required to do with Aetna's confidential information, according to the MSA?\",\n",
       "  'options': {'A': 'Share it with third parties without consent',\n",
       "   'B': 'Disclose it only under Sarbanes-Oxley Act requirements',\n",
       "   'C': 'Keep it confidential unless required by law',\n",
       "   'D': 'Use it for marketing purposes'},\n",
       "  'correct_answer': 'C',\n",
       "  'explanation': \"HDI must keep Aetna's confidential information confidential unless required by law, as specified in the MSA.\",\n",
       "  'source': 's3://ml-legal-restricted/contract-docs/63455/412_OCR_AetnaHDI MSA Fully Executed 3-24-2014.pdf',\n",
       "  'client': 'Aetna Life Insurance Company',\n",
       "  'document_type': 'MSA',\n",
       "  'context': 'Excepting all ﬁlings and disclosures required by law, including but not limited to ﬁlings required \\nby The Sarbanes-Oxley Act, HDI speciﬁcally and afﬁrmatively agrees that the conﬁdential \\ninformation of Aetna, including, without limitation, information or knowledge, whether oral or \\nwritten, in any media fon-nat, that may come into its possession while fulﬁlling its obligations \\nhereunder will be kept conﬁdential and shall not, without the prior written consent ofActna, be \\ndisclosed in any manner whatsoever, in Wltole or in part. HDI funher agrees that breach of this \\nprovision shall be cause for immediate tennination, in Aen1a’s discretion, and that HDI shall \\nindemnify Aetna for any loss or damage resulting from said breach \\nPrivacy Requirements. I-IDI will, or is likely to, have access to, create, maintain, transmit \\nand/or receive cenain Protected Health Infomtation in conjunction with the sen/ices and/or \\nproducts being provided under this Agreement and is a Business Associate for purposes of the \\nPrivacy Regulations pursuant to the Health Insurance Portability and Accountability Act of \\n1996, as amended (\"HIPAA\"), and ﬁnal rules and regulations governing the privacy of \\nindividually identiﬁable health information (as the same may be modiﬁed from time-to-time, the \\n\"Privacy Regulations\").',\n",
       "  'id': 'qa_11'},\n",
       " {'question': 'How can a client withdraw their consent to receive future notices and disclosures electronically from Cotiviti?',\n",
       "  'options': {'A': 'By visiting Cotiviti’s office in person',\n",
       "   'B': 'By sending a physical letter to Cotiviti',\n",
       "   'C': 'By declining to sign a document in DocuSign and selecting the checkbox to withdraw consent',\n",
       "   'D': 'By calling Cotiviti customer service'},\n",
       "  'correct_answer': 'C',\n",
       "  'explanation': 'The document specifies that consent can be withdrawn by declining to sign a document in DocuSign and selecting the checkbox indicating a wish to withdraw consent, or by sending an email to legal@verscend.com.',\n",
       "  'source': 's3://ml-legal-restricted/contract-docs/59531/Dynamics_-_59531_signed.pdf',\n",
       "  'client': 'Aerotek',\n",
       "  'document_type': 'SOW',\n",
       "  'context': 'To withdraw your consent with Cotiviti   \\nTo inform us that you no longer want to receive future notices a nd disclosures in electronic \\nformat you may:  \\ni. decline to sign a document from within your DocuSign account, and on the subsequent \\npage, select the check -box indicating you wish to withdraw your consent, or you may;  \\nii. send us an e -mail to legal@verscend .com and in the body of such request you must \\nstate your e -mail, full name, IS Postal Address, telephone number, and account number. Required hardware and software   \\nOperating Systems:  Windows2000¬ or WindowsXP¬  \\nBrowsers (for \\nSENDERS):  Internet Explorer 6.0¬ or above  \\nBrowsers (for \\nSIGNERS):  Internet Explorer 6.0¬, Mozilla FireFox 1.0, NetScape 7.2 (or above)  \\nEmail:  Access to a valid email account  \\nScreen Resolution:  800 x 600 minimum  \\nEnabled Security \\nSettings:  ò Allow per session cook ies \\nò Users accessing the internet behind a Proxy Server must enable HTTP \\n1.1 settings via proxy connection  \\n** These minimum requirements are subject to change. If these requirements change, we will \\nprovide you with an email message at the email address w e have on file for you at that time \\nproviding you with the revised hardware and software requirements, at which time you will have \\nthe right to withdraw your consent. Acknowledging your access and consent to receive materials electronically   \\nTo confirm to  us that you can access this information electronically, which will be similar to \\nother electronic notices and disclosures that we will provide to you, please verify that you were \\nable to read this electronic disclosure and that you also were able to print  on paper or \\nelectronically save this page for your future reference and access or that you were able to e -mail \\nthis disclosure and consent to an address where you will be able to print on paper or save it for \\nyour future reference and access.',\n",
       "  'id': 'qa_12'},\n",
       " {'question': 'What is the required action for the Subcontractor in case of a breach of unsecured Protected Health Information according to the BAA?',\n",
       "  'options': {'A': 'Notify the Secretary of the Department of Health and Human Services',\n",
       "   'B': 'Provide an initial report to Business Associate within 48 hours',\n",
       "   'C': 'Provide an initial report to Business Associate within 24 hours',\n",
       "   'D': 'Immediately terminate the Services Agreement'},\n",
       "  'correct_answer': 'C',\n",
       "  'explanation': 'The BAA specifies that the Subcontractor must provide an initial report in writing to the Business Associate within 24 hours of discovering a breach of unsecured Protected Health Information.',\n",
       "  'source': 's3://ml-legal-restricted/contract-docs/61809/BAA to MASTER STAFFING AGENCY AGREEMENT (Exhibit B).docx',\n",
       "  'client': 'Aerotek',\n",
       "  'document_type': 'BAA',\n",
       "  'context': '1.5\\t“Required By Law” shall have the same meaning as the term “required by law” in 45 CFR §164.501. 1.6\\t“Secretary” shall mean the Secretary of the Department of Health and Human Services or his designee. 1.7\\t“Security Rule” shall mean the Standards for the Security of Electronic Protected Health Information at 45 CFR Part 164, Subpart C.  \\n\\n2. Obligations and Activities of Subcontractor\\n\\n2.1\\tSubcontractor agrees not to use or disclose Protected Health Information other than as permitted or required by this Agreement or the Services Agreement or as Required by Law. 2.2\\tSubcontractor agrees to use appropriate safeguards–and to comply with the Security Rule with respect to electronic Protected Health Information–to prevent the use or disclosure of Protected Health Information other than as provided for by this Agreement or the Services Agreement. 2.3\\tWithin twenty-four (24) hours of discovery, Subcontractor agrees to provide an initial report in writing to Business Associate of any use or disclosure of the Protected Health Information, including Breaches of unsecured Protected Health Information, not provided for by this Agreement or the Services Agreement of which it becomes aware.',\n",
       "  'id': 'qa_13'},\n",
       " {'question': 'How can a client withdraw their consent to receive electronic notices and disclosures from Cotiviti?',\n",
       "  'options': {'A': 'By logging into their account and changing their settings',\n",
       "   'B': 'By calling customer service and requesting withdrawal of consent',\n",
       "   'C': 'By declining to sign a document within their DocuSign account and selecting a checkbox',\n",
       "   'D': 'By sending an email with their details to legal@verscend.com'},\n",
       "  'correct_answer': 'C',\n",
       "  'explanation': 'The text specifies that the client can withdraw consent by declining to sign a document within their DocuSign account and selecting the checkbox or by sending an email with their details.',\n",
       "  'source': 's3://ml-legal-restricted/contract-docs/59533/Dynamics_-_59533_signed.pdf',\n",
       "  'client': 'Aerotek',\n",
       "  'document_type': 'SOW',\n",
       "  'context': 'To withdraw your consent with Cotiviti   \\nTo inform us that you no longer want to receive future notices a nd disclosures in electronic \\nformat you may:  \\ni. decline to sign a document from within your DocuSign account, and on the subsequent \\npage, select the check -box indicating you wish to withdraw your consent, or you may;  \\nii. send us an e -mail to legal@verscend .com and in the body of such request you must \\nstate your e -mail, full name, IS Postal Address, telephone number, and account number. Required hardware and software   \\nOperating Systems:  Windows2000¬ or WindowsXP¬  \\nBrowsers (for \\nSENDERS):  Internet Explorer 6.0¬ or above  \\nBrowsers (for \\nSIGNERS):  Internet Explorer 6.0¬, Mozilla FireFox 1.0, NetScape 7.2 (or above)  \\nEmail:  Access to a valid email account  \\nScreen Resolution:  800 x 600 minimum  \\nEnabled Security \\nSettings:  ò Allow per session cook ies \\nò Users accessing the internet behind a Proxy Server must enable HTTP \\n1.1 settings via proxy connection  \\n** These minimum requirements are subject to change. If these requirements change, we will \\nprovide you with an email message at the email address w e have on file for you at that time \\nproviding you with the revised hardware and software requirements, at which time you will have \\nthe right to withdraw your consent. Acknowledging your access and consent to receive materials electronically   \\nTo confirm to  us that you can access this information electronically, which will be similar to \\nother electronic notices and disclosures that we will provide to you, please verify that you were \\nable to read this electronic disclosure and that you also were able to print  on paper or \\nelectronically save this page for your future reference and access or that you were able to e -mail \\nthis disclosure and consent to an address where you will be able to print on paper or save it for \\nyour future reference and access.',\n",
       "  'id': 'qa_14'},\n",
       " {'question': 'What is the procedure if attempts to verify an applicant’s educational credentials are unsuccessful?',\n",
       "  'options': {'A': 'The applicant is automatically eligible for assignment.',\n",
       "   'B': 'The applicant’s educational credentials are accepted without verification.',\n",
       "   'C': 'Customer accepts an Approved Copy and assigns the applicant regardless of credential verification.',\n",
       "   'D': 'Customer accepts an Approved Copy of the credential if the original was viewed in-person.'},\n",
       "  'correct_answer': 'D',\n",
       "  'explanation': 'The document specifies that if verification attempts are unsuccessful, Customer agrees to accept an Approved Copy of the diploma, GED, or degree if the original was viewed in-person by a Company representative.',\n",
       "  'source': 's3://ml-legal-restricted/contract-docs/59686/Aerotek Modified Exhibit A - Cotiviti Inc (7 year lived and worked)Ready for Signature (SBC 07.02.20).pdf',\n",
       "  'client': 'Aerotek',\n",
       "  'document_type': 'Security Addendum/Exhibit',\n",
       "  'context': 'Please select one  criteria from the options below:  \\n \\n  Customer agrees to accept a copy of the required Diploma, GED, or Degree provided the original was viewed, in- person, by a Company \\nrepresentative (“Approved Copy”) if reasonable attempts to verify an applicant’s/employee’s educational credent ials are exhausted and result in \\nan unsuccessful verification. If attempts to verify the applicant’s/employee’s education credentials are unsuccessful, Customer refuses to accept an Approv ed Copy of the \\ncredential and the individual would be deemed ineligible for assignment. If attempts to independently verify the required credentials are unsuccessful, contact Customer to discuss exception. Page 2 of 4 (M)  BN  6/22/2020   \\nEmployment Verifications  \\n \\n1. Perform two (2) reference checks  \\n \\n2. Employment Verification –  Verification of an individual’s past seven  (7) years of employment via a third- party. Please select one  \\ncriteria from the options below:  \\n \\n  Customer agrees to accept alternative forms of verification such as W2’s or other tax documents for those employers or number  of years \\nnecessary to meet the required period provided the original  was viewed, in -person, by a Company representative if reasonable attempts to verify the \\napplicant’s/employee’s employment history are exhausted and result in an unsuccessful verification. If attempts to verify the applicant’s/employee’s previous employment are unsuccessful, Customer refuses to accept copies of alternative forms of \\nverification and the individual would be deemed ineligible for assignment. If attempts to independently verify the required current and/or previous employment are unsuccessful, contact Customer to dis cuss exception  \\n \\n \\nCriminal Record Services  \\nAerotek offers a selection of Criminal Record Services to be scaled against various job positions and  \\nduties to provide customers a balance of speed and a quality screen based on business necessity.',\n",
       "  'id': 'qa_15'},\n",
       " {'question': 'What does the legal document specify about the processing of Verscend Information Assets?',\n",
       "  'options': {'A': 'Subcontractor can process the information assets for any purpose as long as they notify Verscend.',\n",
       "   'B': 'Subcontractor must process the information assets only as authorized and necessary to perform the Services.',\n",
       "   'C': 'Subcontractor must not process any information assets under any circumstances.',\n",
       "   'D': 'Subcontractor can freely process information assets without any oversight.'},\n",
       "  'correct_answer': 'B',\n",
       "  'explanation': 'The document specifies that the Subcontractor shall process Verscend Information Assets only as authorized and necessary to perform the Services.',\n",
       "  'source': 's3://ml-legal-restricted/contract-docs/51804/Aerotek-Verscend Master Staffing Agency Agreement v1 03-29-18 redlined.docx',\n",
       "  'client': 'Aerotek',\n",
       "  'document_type': 'MSA',\n",
       "  'context': 'Personal Information includes but is not limited to (i) all government-issued identification numbers, (ii) all financial account numbers (including payment card information and cardholder data, as defined by the Payment Card Industry Data Security Standard (\"PCI DSS\"), (iii) individual medical records (including Protected Health Information, as defined below) and biometric information, (iv) all data obtained from a consumer reporting agency (such as employee background investigation reports, credit reports, and credit scores), and (v) data elements revealing race, ethnicity, national origin, religion, trade union membership, sex life or sexual orientation, and criminal records or allegations of crimes. \"Processing\" or \"Process\" means any operation or set of operations which is performed upon Verscend Information Assets, whether or not by automatic means, such as access, collection, compilation, use, disclosure, duplication, organization, storage, alteration, transmission, combination, redaction, erasure, or destruction. \"Protected Health Information\" shall have the same meaning as the term “Protected Health Information\" in 45 CFR § 160.103. \"Services\" means any and all services that Verscend requests the Subcontractor to perform under the\\nAgreement that involves Processing of Verscend Information Assets. Privacy and Data Protection Obligations. Subcontractor shall provide a security representative as the single point of contact for Verscend on all security issues, who shall be responsible for overseeing compliance with this Addendum. Subcontractor shall Process Verscend Information Assets only as authorized and as necessary to perform the Services.',\n",
       "  'id': 'qa_16'},\n",
       " {'question': 'What are the minimum recordkeeping requirements for initial examinations by psychologists for Medicaid/NJ FamilyCare patients?',\n",
       "  'options': {'A': 'Date(s) of service, psychologist signature, chief complaint(s), and evaluation reports',\n",
       "   'B': 'Pertinent historical data, diagnosis, course of treatment, and intended prognosis',\n",
       "   'C': 'Date(s) of service, chief complaint(s), evaluation reports, diagnosis, and course of treatment',\n",
       "   'D': 'All of the above must be included'},\n",
       "  'correct_answer': 'D',\n",
       "  'explanation': 'The document specifies that for the initial examination, records must include the date(s) of service rendered, psychologist signature, chief complaint(s), pertinent historical, social, emotional, and additional data, evaluation reports, diagnosis, and intended course of treatment and tentative prognosis.',\n",
       "  'source': 's3://ml-legal-restricted/contract-docs/76171/ABH NJ_NJ FamilyCare RCA_Subs_Provs DMAHS Approved 071824_Reformatted.docx',\n",
       "  'client': 'Aetna Life Insurance Company',\n",
       "  'document_type': 'Addendum',\n",
       "  'context': 'If the laboratory uploads, transcribes or enters test requisition or authorization information into a record system or a laboratory information system, the laboratory must ensure that the information is transcribed or entered accurately. Services Provided by a Psychologist\\nPsychologists shall keep such individual records as may be necessary to disclose fully the kind and extent of services provided and shall make such information available when requested by the New Jersey Medicaid/NJ FamilyCare program or its agents. The recordkeeping shall document the services provided as they relate to the procedure code(s) used for reimbursement purposes (see N.J.A.C. 10:67-3, Healthcare Common Procedure Coding System). For the initial examination, the record shall include, as a minimum, the following:\\nDate(s) of service rendered;\\nSignature of the psychologist;\\nChief complaint(s);\\nPertinent historical, social, emotional, and additional data;\\nReports of evaluation procedures undertaken or ordered;\\nDiagnosis; and\\nThe intended course of treatment and tentative prognosis. For subsequent progress notes made for each Medicaid/ NJ FamilyCare patient contact, the following shall be included on the psychotherapeutic progress note:\\nDate(s) and duration of service (for example, hour, half-hour);\\nSignature of the psychologist;\\nName(s) of modality used, such as individual, group, or family therapy;\\nNotations of progress, impediments, or treatment complications; and\\nOther components, such as dates or information not included in (c)1 through 4 above, which may be important to the clinical description and prognosis. One or more of the following components shall be recorded to delineate the visit and establish its uniqueness. (Not all of the components need be included):\\nSymptoms and complaints;\\nAffect;\\nBehavior;\\nFocus topics; and\\nSignificant incidents or historical events.',\n",
       "  'id': 'qa_17'},\n",
       " {'question': 'What is one of the responsibilities of the Business Associate regarding PHI and EPHI security?',\n",
       "  'options': {'A': 'Provide the Fund with SSAE 16 or SAS 70 reports upon request.',\n",
       "   'B': 'Ensure photocopiers and fax machines do not store any PHI or EPHI.',\n",
       "   'C': 'Ensure agents hold PHI and EPHI in confidence and report any Security Incident.',\n",
       "   'D': 'Make internal security policies available to the Secretary of HHS if required.'},\n",
       "  'correct_answer': 'B',\n",
       "  'explanation': 'Business Associate must implement safeguards for PHI or EPHI stored in photocopiers, fax machines, or other devices as per HIPAA Rules.',\n",
       "  'source': 's3://ml-legal-restricted/contract-docs/52202/1199 BAA (Final Rule) 9-22-14.pdf',\n",
       "  'client': '1199 SEIU National Benefit Funds',\n",
       "  'document_type': 'BAA',\n",
       "  'context': '(A) _ Business Associate shall implement and use appropriate administrative, technical\\nand physical safeguards to protect the confidentiality, integrity and availability of PHI or EPHI\\nthat it creates, receives, maintains, modifies, destroys, discloses, or transmits on behalf of the\\nFund as required by the security requirements of the HIPAA Rules, including but not limited to,\\nPHI and EPHI stored, whether intentionally or not, in a photocopier, facsimile, or other device. 35806-2\\n\\x0c\\n1 99 SEU Funds\\n\\nBorel\\n\\nJ ond Penston\\n\\n(B) Business Associate shall make its internal security and privacy policies,\\nprocedures, and records, relating to the use and disclosure of PHI and EPHI reasonably available\\nto the Secretary of the Department of Health and Human Services or to the Fund if necessary or\\nrequired to assess Business Associate’s compliance with the HIPAA Rules. (C) Business Associate shall upon request provide to the Fund a copy of Business\\nAssociate’s Statement on Standards for Attestation Engagements (SSAE) 16 report, or its\\nStatement on Auditing Standards (SAS) 70 report. (D) Business Associate shall obtain reasonable assurance, evidenced by written\\ncontract, from any agent, including a subcontractor, to whom it provides PHI and/or EPHI that\\nsuch agent shall:\\n\\n(i) Hold such PHI and/or EPHI in confidence and use or further disclose it\\nonly for the purpose for which Business Associate disclosed it to the agent as Required\\nby Law;\\n\\nGi) Implement reasonable and appropriate safeguards to protect the\\nconfidentiality, integrity and availability of such PHI or EPHI as required by the HIPAA\\nRegulations; and\\n\\n(iii) | Report to Business Associate (who shall in turn promptly notify the Fund)\\nany Security Incident involving PHI or EPHI, as defined by the HIPAA Rules, of which\\n\\nit becomes aware. 6. Electronic Data Interchange (“EDI”).',\n",
       "  'id': 'qa_18'},\n",
       " {'question': 'What is the maximum time allowed for installing critical security patches on systems processing Company PHI?',\n",
       "  'options': {'A': '60 days after vendor release',\n",
       "   'B': '45 days after vendor release',\n",
       "   'C': '30 days after vendor release',\n",
       "   'D': '15 days after vendor release'},\n",
       "  'correct_answer': 'C',\n",
       "  'explanation': 'The document specifies that all applicable patches must be installed within 30 days of vendor release.',\n",
       "  'source': 's3://ml-legal-restricted/contract-docs/63497/46088_Aetna CA Compliance Addendum 052720.pdf',\n",
       "  'client': 'Aetna Life Insurance Company',\n",
       "  'document_type': 'Addendum',\n",
       "  'context': 'All workstations,  laptops and other systems that process and/or store Company PHI \\nmust install and actively use comprehensive anti -virus software solution with automatic updates scheduled \\nat least daily. F. Patch Management. All workstations, laptops and other systems that pr ocess and/or store Company PHI \\nmust have critical security patches applied, with system reboot if necessary. There must be a documented \\npatch management process which determines installation timeframe based on risk assessment and vendor \\nrecommendations. At  a maximum, all applicable patches must be installed within thirty (30) days of \\nvendor release. G. User IDs and Password Controls. All users must be issued a unique user name for accessing Company \\nPHI Username must be promptly disabled, deleted, or the passwo rd changed upon the transfer or \\ntermination of an employee with knowledge of the password, at maximum within twenty -four (24) hours. Passwords are not to be shared. Passwords must be at least eight (8) characters and must be a non -\\ndictionary word. Password s must not be stored in readable format on the computer. Passwords must be \\nchanged every ninety (90) days, preferably every sixty (60) days. Passwords must be changed if revealed \\nor compromised. Passwords must be composed of characters from at least three of the following four \\ngroups from the standard keyboard:  \\n\\uf0a7 Upper case letters (A -Z)  \\n\\uf0a7 Lower case letters (a -z) \\n\\uf0a7 Arabic numerals (0 -9) \\n\\uf0a7 Non-alphanumeric characters (punctuation symbols)  \\nH. Data Destruction. When no longer needed, all Company PHI must be wiped using  the Gutmann or US \\nDepartment of Defense (DOD) 5220.22 M (7 Pass) standard, or by degaussing. Media may also be \\nphysically destroyed in accordance with NIST Special Publication 800 -88. Other methods require prior \\nwritten permission of Company. I. System Timeo ut.',\n",
       "  'id': 'qa_19'},\n",
       " {'question': 'What is included under the definition of Personal Information according to the MSA?',\n",
       "  'options': {'A': 'Government-issued identification numbers and financial account numbers only',\n",
       "   'B': 'Biometric information only',\n",
       "   'C': 'All data obtained from a consumer reporting agency and data revealing race, ethnicity, and sexual orientation',\n",
       "   'D': 'Only criminal records or allegations of crimes'},\n",
       "  'correct_answer': 'C',\n",
       "  'explanation': 'The definition of Personal Information includes data obtained from consumer reporting agencies and data elements revealing race, ethnicity, national origin, religion, trade union membership, sex life or sexual orientation, and criminal records or allegations of crimes.',\n",
       "  'source': 's3://ml-legal-restricted/contract-docs/51804/Aerotek-Verscend Master Staffing Agency Agreement v1 03-29-18 redlined.docx',\n",
       "  'client': 'Aerotek',\n",
       "  'document_type': 'MSA',\n",
       "  'context': 'Personal Information includes but is not limited to (i) all government-issued identification numbers, (ii) all financial account numbers (including payment card information and cardholder data, as defined by the Payment Card Industry Data Security Standard (\"PCI DSS\"), (iii) individual medical records (including Protected Health Information, as defined below) and biometric information, (iv) all data obtained from a consumer reporting agency (such as employee background investigation reports, credit reports, and credit scores), and (v) data elements revealing race, ethnicity, national origin, religion, trade union membership, sex life or sexual orientation, and criminal records or allegations of crimes. \"Processing\" or \"Process\" means any operation or set of operations which is performed upon Verscend Information Assets, whether or not by automatic means, such as access, collection, compilation, use, disclosure, duplication, organization, storage, alteration, transmission, combination, redaction, erasure, or destruction. \"Protected Health Information\" shall have the same meaning as the term “Protected Health Information\" in 45 CFR § 160.103. \"Services\" means any and all services that Verscend requests the Subcontractor to perform under the\\nAgreement that involves Processing of Verscend Information Assets. Privacy and Data Protection Obligations. Subcontractor shall provide a security representative as the single point of contact for Verscend on all security issues, who shall be responsible for overseeing compliance with this Addendum. Subcontractor shall Process Verscend Information Assets only as authorized and as necessary to perform the Services.',\n",
       "  'id': 'qa_20'}]"
      ]
     },
     "execution_count": 37,
     "metadata": {},
     "output_type": "execute_result"
    }
   ],
   "source": [
    "qa_dataset_shuffled"
   ]
  },
  {
   "cell_type": "code",
   "execution_count": 38,
   "id": "03da848a",
   "metadata": {},
   "outputs": [
    {
     "name": "stdout",
     "output_type": "stream",
     "text": [
      "Evaluating factuality of generated Q&A pairs...\n"
     ]
    },
    {
     "name": "stderr",
     "output_type": "stream",
     "text": [
      "Evaluating factuality:   0%|          | 0/20 [00:00<?, ?it/s]"
     ]
    },
    {
     "name": "stdout",
     "output_type": "stream",
     "text": [
      "\n",
      "Q&A 1 Evaluation:\n",
      "Question: What must the Subcontractor provide to the Business Associate regarding insurance coverage?...\n",
      "Factuality: 1\n",
      "Critic: The question is directly answerable from the context provided, which specifies that the Subcontractor must provide a certificate of insurance evidenci...\n"
     ]
    },
    {
     "name": "stderr",
     "output_type": "stream",
     "text": [
      "Evaluating factuality:   5%|▌         | 1/20 [00:02<00:42,  2.21s/it]"
     ]
    },
    {
     "name": "stdout",
     "output_type": "stream",
     "text": [
      "\n",
      "Q&A 2 Evaluation:\n",
      "Question: What does the term \"Processing\" refer to in the context of Verscend Information Assets?...\n",
      "Factuality: 1\n",
      "Critic: The question is answerable from the given context, and the correct answer is directly supported by the context. The definition of \"Processing\" in the ...\n"
     ]
    },
    {
     "name": "stderr",
     "output_type": "stream",
     "text": [
      "Evaluating factuality:  10%|█         | 2/20 [00:04<00:37,  2.06s/it]"
     ]
    },
    {
     "name": "stdout",
     "output_type": "stream",
     "text": [
      "\n",
      "Q&A 3 Evaluation:\n",
      "Question: What is required for Cotiviti Global Assets to access Client’s Claims or Protected Health Informatio...\n",
      "Factuality: 1\n",
      "Critic: The question is answerable from the given context, and the correct answer is directly supported by the context provided. The document specifies that C...\n"
     ]
    },
    {
     "name": "stderr",
     "output_type": "stream",
     "text": [
      "Evaluating factuality:  15%|█▌        | 3/20 [00:06<00:37,  2.19s/it]"
     ]
    },
    {
     "name": "stdout",
     "output_type": "stream",
     "text": [
      "\n",
      "Q&A 4 Evaluation:\n",
      "Question: What is required of the Subcontractor in terms of insurance coverage under the MSA with Aerotek?...\n",
      "Factuality: 1\n",
      "Critic: The question is answerable from the given context, and the marked correct answer is directly supported by the context. The context explicitly states t...\n"
     ]
    },
    {
     "name": "stderr",
     "output_type": "stream",
     "text": [
      "Evaluating factuality:  20%|██        | 4/20 [00:08<00:34,  2.15s/it]"
     ]
    },
    {
     "name": "stdout",
     "output_type": "stream",
     "text": [
      "\n",
      "Q&A 5 Evaluation:\n",
      "Question: What is required of the Subcontractor in terms of insurance coverage according to the MSA with Aerot...\n",
      "Factuality: 1\n",
      "Critic: The question is answerable from the given context, and the correct answer is directly supported by the context. The context explicitly states that the...\n"
     ]
    },
    {
     "name": "stderr",
     "output_type": "stream",
     "text": [
      "Evaluating factuality:  25%|██▌       | 5/20 [00:11<00:33,  2.26s/it]"
     ]
    },
    {
     "name": "stdout",
     "output_type": "stream",
     "text": [
      "\n",
      "Q&A 6 Evaluation:\n",
      "Question: What security standards must the Vendor comply with when handling Highly Sensitive Information?...\n",
      "Factuality: 1\n",
      "Critic: The question is directly answerable from the given context. The context specifies that the Vendor must implement safeguards no less rigorous than acce...\n"
     ]
    },
    {
     "name": "stderr",
     "output_type": "stream",
     "text": [
      "Evaluating factuality:  30%|███       | 6/20 [00:13<00:31,  2.28s/it]"
     ]
    },
    {
     "name": "stdout",
     "output_type": "stream",
     "text": [
      "\n",
      "Q&A 7 Evaluation:\n",
      "Question: Under what condition can Verscend suspend the provision of Support Services to the Customer?...\n",
      "Factuality: 1\n",
      "Critic: The question is directly answerable from the context, which states that Verscend may suspend Support Services if the Customer has an overdue balance u...\n"
     ]
    },
    {
     "name": "stderr",
     "output_type": "stream",
     "text": [
      "Evaluating factuality:  35%|███▌      | 7/20 [00:15<00:28,  2.20s/it]"
     ]
    },
    {
     "name": "stdout",
     "output_type": "stream",
     "text": [
      "\n",
      "Q&A 8 Evaluation:\n",
      "Question: What security standards must the Vendor comply with when handling Highly Sensitive Information accor...\n",
      "Factuality: 1\n",
      "Critic: The question is answerable from the given context, and the correct answer is directly supported by the context. The context clearly states that the Ve...\n"
     ]
    },
    {
     "name": "stderr",
     "output_type": "stream",
     "text": [
      "Evaluating factuality:  40%|████      | 8/20 [00:17<00:26,  2.21s/it]"
     ]
    },
    {
     "name": "stdout",
     "output_type": "stream",
     "text": [
      "\n",
      "Q&A 9 Evaluation:\n",
      "Question: What is the time frame within which the subcontractor must report unauthorized use or disclosure of ...\n",
      "Factuality: 1\n",
      "Critic: The question is directly answerable from the context, which states that the subcontractor must report any unauthorized use or disclosure of Protected ...\n"
     ]
    },
    {
     "name": "stderr",
     "output_type": "stream",
     "text": [
      "Evaluating factuality:  45%|████▌     | 9/20 [00:19<00:23,  2.17s/it]"
     ]
    },
    {
     "name": "stdout",
     "output_type": "stream",
     "text": [
      "\n",
      "Q&A 10 Evaluation:\n",
      "Question: What is the time period covered by the Supplemental Criminal Record Conviction Database search as me...\n",
      "Factuality: 1\n",
      "Critic: Explanation of why the Q&A is factually correct or incorrect based on the context. The context states that the Supplemental Criminal Record Conviction...\n"
     ]
    },
    {
     "name": "stderr",
     "output_type": "stream",
     "text": [
      "Evaluating factuality:  50%|█████     | 10/20 [00:21<00:21,  2.20s/it]"
     ]
    },
    {
     "name": "stdout",
     "output_type": "stream",
     "text": [
      "\n",
      "Q&A 11 Evaluation:\n",
      "Question: What is HDI required to do with Aetna's confidential information, according to the MSA?...\n",
      "Factuality: 1\n",
      "Critic: The question is answerable from the context provided, and the correct answer is directly supported by the context. The context explicitly states that ...\n"
     ]
    },
    {
     "name": "stderr",
     "output_type": "stream",
     "text": [
      "Evaluating factuality:  55%|█████▌    | 11/20 [00:24<00:19,  2.19s/it]"
     ]
    },
    {
     "name": "stdout",
     "output_type": "stream",
     "text": [
      "\n",
      "Q&A 12 Evaluation:\n",
      "Question: How can a client withdraw their consent to receive future notices and disclosures electronically fro...\n",
      "Factuality: 1\n",
      "Critic: The question is answerable from the context, and the correct answer C is directly supported by the context. The context specifies that consent can be ...\n"
     ]
    },
    {
     "name": "stderr",
     "output_type": "stream",
     "text": [
      "Evaluating factuality:  60%|██████    | 12/20 [00:26<00:17,  2.21s/it]"
     ]
    },
    {
     "name": "stdout",
     "output_type": "stream",
     "text": [
      "\n",
      "Q&A 13 Evaluation:\n",
      "Question: What is the required action for the Subcontractor in case of a breach of unsecured Protected Health ...\n",
      "Factuality: 1\n",
      "Critic: The question is answerable from the given context, and the correct answer is directly supported by the context. The context states that the Subcontrac...\n"
     ]
    },
    {
     "name": "stderr",
     "output_type": "stream",
     "text": [
      "Evaluating factuality:  65%|██████▌   | 13/20 [00:29<00:16,  2.37s/it]"
     ]
    },
    {
     "name": "stdout",
     "output_type": "stream",
     "text": [
      "\n",
      "Q&A 14 Evaluation:\n",
      "Question: How can a client withdraw their consent to receive electronic notices and disclosures from Cotiviti?...\n",
      "Factuality: 1\n",
      "Critic: The correct answer is factually accurate according to the context provided. The context specifies that a client can withdraw consent by declining to s...\n"
     ]
    },
    {
     "name": "stderr",
     "output_type": "stream",
     "text": [
      "Evaluating factuality:  70%|███████   | 14/20 [00:32<00:15,  2.66s/it]"
     ]
    },
    {
     "name": "stdout",
     "output_type": "stream",
     "text": [
      "\n",
      "Q&A 15 Evaluation:\n",
      "Question: What is the procedure if attempts to verify an applicant’s educational credentials are unsuccessful?...\n",
      "Factuality: 1\n",
      "Critic: The correct answer \"D\" is factually accurate based on the context. The document specifies that if verification attempts are unsuccessful, the Customer...\n"
     ]
    },
    {
     "name": "stderr",
     "output_type": "stream",
     "text": [
      "Evaluating factuality:  75%|███████▌  | 15/20 [00:34<00:12,  2.43s/it]"
     ]
    },
    {
     "name": "stdout",
     "output_type": "stream",
     "text": [
      "\n",
      "Q&A 16 Evaluation:\n",
      "Question: What does the legal document specify about the processing of Verscend Information Assets?...\n",
      "Factuality: 1\n",
      "Critic: The correct answer B is factually accurate based on the context provided. The document specifies that the Subcontractor shall process Verscend Informa...\n"
     ]
    },
    {
     "name": "stderr",
     "output_type": "stream",
     "text": [
      "Evaluating factuality:  80%|████████  | 16/20 [00:36<00:08,  2.24s/it]"
     ]
    },
    {
     "name": "stdout",
     "output_type": "stream",
     "text": [
      "\n",
      "Q&A 17 Evaluation:\n",
      "Question: What are the minimum recordkeeping requirements for initial examinations by psychologists for Medica...\n",
      "Factuality: 1\n",
      "Critic: The question is answerable from the given context, and the marked correct answer (D) is directly supported by the context. The context lists all the c...\n"
     ]
    },
    {
     "name": "stderr",
     "output_type": "stream",
     "text": [
      "Evaluating factuality:  85%|████████▌ | 17/20 [00:38<00:07,  2.41s/it]"
     ]
    },
    {
     "name": "stdout",
     "output_type": "stream",
     "text": [
      "\n",
      "Q&A 18 Evaluation:\n",
      "Question: What is one of the responsibilities of the Business Associate regarding PHI and EPHI security?...\n",
      "Factuality: 0\n",
      "Critic: The marked correct answer is incorrect based on the context. The context specifies that the Business Associate must implement and use safeguards to pr...\n"
     ]
    },
    {
     "name": "stderr",
     "output_type": "stream",
     "text": [
      "Evaluating factuality:  90%|█████████ | 18/20 [00:41<00:05,  2.51s/it]"
     ]
    },
    {
     "name": "stdout",
     "output_type": "stream",
     "text": [
      "\n",
      "Q&A 19 Evaluation:\n",
      "Question: What is the maximum time allowed for installing critical security patches on systems processing Comp...\n",
      "Factuality: 1\n",
      "Critic: The question is directly answerable from the context, which states that all applicable patches must be installed within thirty (30) days of vendor rel...\n"
     ]
    },
    {
     "name": "stderr",
     "output_type": "stream",
     "text": [
      "Evaluating factuality:  95%|█████████▌| 19/20 [00:43<00:02,  2.40s/it]"
     ]
    },
    {
     "name": "stdout",
     "output_type": "stream",
     "text": [
      "\n",
      "Q&A 20 Evaluation:\n",
      "Question: What is included under the definition of Personal Information according to the MSA?...\n",
      "Factuality: 1\n",
      "Critic: The question is answerable from the given context, and the marked correct answer C is directly supported by the provided context. The context explicit...\n"
     ]
    },
    {
     "name": "stderr",
     "output_type": "stream",
     "text": [
      "Evaluating factuality: 100%|██████████| 20/20 [00:46<00:00,  2.30s/it]"
     ]
    },
    {
     "name": "stdout",
     "output_type": "stream",
     "text": [
      "\n",
      "Completed factuality evaluation for 20 Q&A pairs\n",
      "Factually correct: 19/20 (95.0%)\n"
     ]
    },
    {
     "name": "stderr",
     "output_type": "stream",
     "text": [
      "\n"
     ]
    }
   ],
   "source": [
    "print(\"Evaluating factuality of generated Q&A pairs...\")\n",
    "evaluated_qa_dataset = []\n",
    "\n",
    "for i, qa_item in enumerate(tqdm(qa_dataset_shuffled, desc=\"Evaluating factuality\")):\n",
    "    evaluated_qa = evaluate_qa_factuality(qa_item)\n",
    "    evaluated_qa_dataset.append(evaluated_qa)\n",
    "    \n",
    "    print(f\"\\nQ&A {i+1} Evaluation:\")\n",
    "    print(f\"Question: {qa_item['question'][:100]}...\")\n",
    "    print(f\"Factuality: {evaluated_qa['factuality']}\")\n",
    "    print(f\"Critic: {evaluated_qa['critic_explanation'][:150]}...\")\n",
    "    \n",
    "    time.sleep(1)  # Rate limiting\n",
    "\n",
    "print(f\"\\nCompleted factuality evaluation for {len(evaluated_qa_dataset)} Q&A pairs\")\n",
    "\n",
    "# Show factuality statistics\n",
    "factual_count = sum(1 for qa in evaluated_qa_dataset if qa['factuality'] == 1)\n",
    "print(f\"Factually correct: {factual_count}/{len(evaluated_qa_dataset)} ({factual_count/len(evaluated_qa_dataset)*100:.1f}%)\")"
   ]
  },
  {
   "cell_type": "code",
   "execution_count": 39,
   "id": "95bc29a8",
   "metadata": {},
   "outputs": [
    {
     "name": "stdout",
     "output_type": "stream",
     "text": [
      "Filtered to 19 factually correct Q&A pairs\n",
      "\n",
      "Saved datasets:\n",
      "- qa_list_evaluated.json: 20 Q&A pairs (with factuality scores)\n",
      "- qa_list_factual_only.json: 19 factually correct Q&A pairs\n",
      "\n",
      "=== Examples ===\n",
      "\n",
      "Factually correct example:\n",
      "Q: What must the Subcontractor provide to the Business Associate regarding insurance coverage?\n",
      "A: B - A certificate of insurance evidencing coverage\n",
      "Critic: The question is directly answerable from the context provided, which specifies that the Subcontractor must provide a certificate of insurance evidencing coverage to the Business Associate upon request. The marked correct answer, option B, is supported by the context, and no additional information is included in the answer beyond what is stated in the document.\n",
      "\n",
      "Non-factual example:\n",
      "Q: What is one of the responsibilities of the Business Associate regarding PHI and EPHI security?\n",
      "A: B - Ensure photocopiers and fax machines do not store any PHI or EPHI.\n",
      "Critic: The marked correct answer is incorrect based on the context. The context specifies that the Business Associate must implement and use safeguards to protect PHI or EPHI, including those stored in photocopiers, fax machines, or other devices, but it does not specifically state that the Business Associate must ensure these devices do not store any PHI or EPHI. The correct answer should be C, as the context mentions that the Business Associate must obtain reasonable assurance from agents to hold PHI and EPHI in confidence and report any Security Incident.\n"
     ]
    }
   ],
   "source": [
    "# Filter only factually correct Q&A pairs\n",
    "factual_qa_dataset = [qa for qa in evaluated_qa_dataset if qa['factuality'] == 1]\n",
    "\n",
    "print(f\"Filtered to {len(factual_qa_dataset)} factually correct Q&A pairs\")\n",
    "\n",
    "# Save both full and filtered datasets\n",
    "with open(\"qa_list_evaluated.json\", \"w\") as f:\n",
    "    json.dump(evaluated_qa_dataset, f, indent=4)\n",
    "\n",
    "with open(\"qa_list_factual_only.json\", \"w\") as f:\n",
    "    json.dump(factual_qa_dataset, f, indent=4)\n",
    "\n",
    "print(\"\\nSaved datasets:\")\n",
    "print(f\"- qa_list_evaluated.json: {len(evaluated_qa_dataset)} Q&A pairs (with factuality scores)\")\n",
    "print(f\"- qa_list_factual_only.json: {len(factual_qa_dataset)} factually correct Q&A pairs\")\n",
    "\n",
    "# Show examples of factual and non-factual items\n",
    "print(\"\\n=== Examples ===\")\n",
    "if factual_qa_dataset:\n",
    "    print(\"\\nFactually correct example:\")\n",
    "    example = factual_qa_dataset[0]\n",
    "    print(f\"Q: {example['question']}\")\n",
    "    print(f\"A: {example['correct_answer']} - {example['options'][example['correct_answer']]}\")\n",
    "    print(f\"Critic: {example['critic_explanation']}\")\n",
    "\n",
    "non_factual = [qa for qa in evaluated_qa_dataset if qa['factuality'] == 0]\n",
    "if non_factual:\n",
    "    print(\"\\nNon-factual example:\")\n",
    "    example = non_factual[0]\n",
    "    print(f\"Q: {example['question']}\")\n",
    "    print(f\"A: {example['correct_answer']} - {example['options'][example['correct_answer']]}\")\n",
    "    print(f\"Critic: {example['critic_explanation']}\")"
   ]
  },
  {
   "cell_type": "code",
   "execution_count": null,
   "id": "546c5a09",
   "metadata": {},
   "outputs": [],
   "source": []
  }
 ],
 "metadata": {
  "kernelspec": {
   "display_name": "evals_legal_rag (3.10.12)",
   "language": "python",
   "name": "python3"
  },
  "language_info": {
   "codemirror_mode": {
    "name": "ipython",
    "version": 3
   },
   "file_extension": ".py",
   "mimetype": "text/x-python",
   "name": "python",
   "nbconvert_exporter": "python",
   "pygments_lexer": "ipython3",
   "version": "3.10.12"
  }
 },
 "nbformat": 4,
 "nbformat_minor": 5
}
